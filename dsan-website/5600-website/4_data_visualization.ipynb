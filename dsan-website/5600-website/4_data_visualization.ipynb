{
  "cells": [
    {
      "cell_type": "raw",
      "metadata": {},
      "source": [
        "---\n",
        "title: Data Visualization\n",
        "---"
      ],
      "id": "280a61da"
    },
    {
      "cell_type": "code",
      "metadata": {
        "message": false,
        "results": "hide"
      },
      "source": [
        "#| echo: true\n",
        "#| code-fold: true\n",
        "#| code-summary: Libraries\n",
        "#| warning: false\n",
        "\n",
        "library(tidyverse)\n",
        "library(ggplot2)\n",
        "library(forecast)\n",
        "library(astsa) \n",
        "library(xts)\n",
        "library(tseries)\n",
        "library(fpp2)\n",
        "library(fma)\n",
        "library(lubridate)\n",
        "library(tidyverse)\n",
        "library(TSstudio)\n",
        "library(quantmod)\n",
        "library(tidyquant)\n",
        "library(plotly)\n",
        "library(ggplot2)\n",
        "library(gridExtra)\n",
        "library(readxl)"
      ],
      "id": "31d97398",
      "execution_count": null,
      "outputs": []
    },
    {
      "cell_type": "markdown",
      "metadata": {},
      "source": [
        "#### [Global Oil Production](https://ourworldindata.org/grapher/oil-production-by-country?time=earliest..1923)"
      ],
      "id": "68e6a3a6"
    },
    {
      "cell_type": "code",
      "metadata": {
        "message": false,
        "results": "hide"
      },
      "source": [
        "#| echo: true\n",
        "#| code-fold: true\n",
        "#| code-summary: Global Oil Production - Data Cleaning\n",
        "#| warning: false\n",
        "\n",
        "# Import dataset\n",
        "df_oil_production <- read_csv('./data/oil-production-by-country.csv')\n",
        "\n",
        "# Rename the columns of the dataframe\n",
        "names(df_oil_production) <- c('Country', 'Code', 'Year', 'Oil_production_TWh')\n",
        "\n",
        "# Calculate the total oil production by countries for 2022.\n",
        "top_countries <- df_oil_production %>% \n",
        "    filter(Year == 2022 & str_length(Code) == 3) %>% \n",
        "    group_by(Country) %>%\n",
        "    summarize(total_production = sum(Oil_production_TWh)) \n",
        "\n",
        "# Keep the top 10 countries with higher oil production for 2022\n",
        "top_countries <- top_countries %>% \n",
        "    arrange(desc(total_production)) %>%  \n",
        "    head(10)\n",
        "\n",
        "# Filter dataframe by the top 10 oil producing countries\n",
        "df_oil_production <- df_oil_production %>% \n",
        "    filter(Country %in% top_countries$Country)\n",
        "\n",
        "# Save dataframe as a new file\n",
        "write.csv(df_oil_production, './data/viz_oil-production-by-country.csv', row.names = FALSE)"
      ],
      "id": "da3823c4",
      "execution_count": null,
      "outputs": []
    },
    {
      "cell_type": "markdown",
      "metadata": {},
      "source": [
        "> Add Map Animation\n",
        "\n",
        "#### [U.S. Inflation Rate](https://data.oecd.org/price/inflation-cpi.htm)"
      ],
      "id": "2a65b917"
    },
    {
      "cell_type": "code",
      "metadata": {
        "message": false
      },
      "source": [
        "#| echo: true\n",
        "#| code-fold: true\n",
        "#| code-summary: U.S. Inflation Rate - Data Cleaning\n",
        "#| warning: false\n",
        " \n",
        "# Import dataset\n",
        "df_inflation <- read_csv('./data/inflation.csv')\n",
        "\n",
        "# Filter information to keep United States total inflation rate by moth.\n",
        "df_inflation <- df_inflation %>%\n",
        "     filter(LOCATION == \"USA\" & SUBJECT == \"TOT\" & FREQUENCY == \"M\" & MEASURE == \"IDX2015\")\n",
        "\n",
        "# Format the Time column\n",
        "df_inflation$TIME <- paste(df_inflation$TIME, \"-01\", sep = \"\")\n",
        "\n",
        "# Chage data type\n",
        "df_inflation$TIME <- as.Date(df_inflation$TIME)\n",
        "\n",
        "# Save dataframe as a new file\n",
        "write.csv(df_inflation, './data/viz_inflation.csv', row.names = FALSE)"
      ],
      "id": "33340adb",
      "execution_count": null,
      "outputs": []
    },
    {
      "cell_type": "markdown",
      "metadata": {},
      "source": [
        "> Add Line Visualization\n",
        "\n",
        "#### [U.S. Interest Rate](https://data.imf.org/regular.aspx?key=61545855)"
      ],
      "id": "ba5e5206"
    },
    {
      "cell_type": "code",
      "metadata": {
        "message": false,
        "results": "hide"
      },
      "source": [
        "#| echo: true\n",
        "#| code-fold: true\n",
        "#| code-summary: U.S. Interest Rate - Data Cleaning\n",
        "#| warning: false\n"
      ],
      "id": "c4ecc57f",
      "execution_count": null,
      "outputs": []
    },
    {
      "cell_type": "markdown",
      "metadata": {},
      "source": [
        "> Add Visualization\n",
        "\n",
        "#### [Crude Oil Price](https://finance.yahoo.com/quote/CL%3DF/chart?p=CL%3DF#eyJpbnRlcnZhbCI6IndlZWsiLCJwZXJpb2RpY2l0eSI6MSwiY2FuZGxlV2lkdGgiOjEsImZsaXBwZWQiOmZhbHNlLCJ2b2x1bWVVbmRlcmxheSI6dHJ1ZSwiYWRqIjp0cnVlLCJjcm9zc2hhaXIiOnRydWUsImNoYXJ0VHlwZSI6ImxpbmUiLCJleHRlbmRlZCI6ZmFsc2UsIm1hcmtldFNlc3Npb25zIjp7fSwiYWdncmVnYXRpb25UeXBlIjoib2hsYyIsImNoYXJ0U2NhbGUiOiJsaW5lYXIiLCJwYW5lbHMiOnsiY2hhcnQiOnsicGVyY2VudCI6MSwiZGlzcGxheSI6IkNMPUYiLCJjaGFydE5hbWUiOiJjaGFydCIsImluZGV4IjowLCJ5QXhpcyI6eyJuYW1lIjoiY2hhcnQiLCJwb3NpdGlvbiI6bnVsbH0sInlheGlzTEhTIjpbXSwieWF4aXNSSFMiOlsiY2hhcnQiLCLigIx2b2wgdW5kcuKAjCJdfX0sInNldFNwYW4iOnsiYmFzZSI6ImFsbCIsIm11bHRpcGxpZXIiOjF9LCJsaW5lV2lkdGgiOjIsInN0cmlwZWRCYWNrZ3JvdW5kIjp0cnVlLCJldmVudHMiOnRydWUsImNvbG9yIjoiIzAwODFmMiIsInN0cmlwZWRCYWNrZ3JvdWQiOnRydWUsImV2ZW50TWFwIjp7ImNvcnBvcmF0ZSI6eyJkaXZzIjp0cnVlLCJzcGxpdHMiOnRydWV9LCJzaWdEZXYiOnt9fSwiY3VzdG9tUmFuZ2UiOm51bGwsInN5bWJvbHMiOlt7InN5bWJvbCI6IkNMPUYiLCJzeW1ib2xPYmplY3QiOnsic3ltYm9sIjoiQ0w9RiIsInF1b3RlVHlwZSI6IkZVVFVSRSIsImV4Y2hhbmdlVGltZVpvbmUiOiJBbWVyaWNhL05ld19Zb3JrIn0sInBlcmlvZGljaXR5IjoxLCJpbnRlcnZhbCI6IndlZWsiLCJzZXRTcGFuIjp7ImJhc2UiOiJhbGwiLCJtdWx0aXBsaWVyIjoxfX1dLCJzdHVkaWVzIjp7IuKAjHZvbCB1bmRy4oCMIjp7InR5cGUiOiJ2b2wgdW5kciIsImlucHV0cyI6eyJpZCI6IuKAjHZvbCB1bmRy4oCMIiwiZGlzcGxheSI6IuKAjHZvbCB1bmRy4oCMIn0sIm91dHB1dHMiOnsiVXAgVm9sdW1lIjoiIzAwYjA2MSIsIkRvd24gVm9sdW1lIjoiI2ZmMzMzYSJ9LCJwYW5lbCI6ImNoYXJ0IiwicGFyYW1ldGVycyI6eyJ3aWR0aEZhY3RvciI6MC40NSwiY2hhcnROYW1lIjoiY2hhcnQiLCJwYW5lbE5hbWUiOiJjaGFydCJ9fX19)\n"
      ],
      "id": "411cc679"
    },
    {
      "cell_type": "code",
      "metadata": {
        "message": false,
        "results": "hide"
      },
      "source": [
        "#| echo: true\n",
        "#| code-fold: true\n",
        "#| code-summary: Crude Oil Price - Data Cleaning\n",
        "#| warning: false\n"
      ],
      "id": "a2976069",
      "execution_count": null,
      "outputs": []
    },
    {
      "cell_type": "markdown",
      "metadata": {},
      "source": [
        "> Add Visualization\n",
        "\n",
        "#### [Energy Sector](https://finance.yahoo.com/quote/IYE?p=IYE&.tsrc=fin-srch), [Transportation](https://finance.yahoo.com/quote/IYT?p=IYT&.tsrc=fin-srch) and [Staples Index](https://finance.yahoo.com/quote/IYK?p=IYK&.tsrc=fin-srch)\n"
      ],
      "id": "338faf9e"
    },
    {
      "cell_type": "code",
      "metadata": {},
      "source": [
        "options(\"getSymbols.warning4.0\"=FALSE)\n",
        "options(\"getSymbols.yahoo.warning\"=FALSE)\n",
        "\n",
        "tickers = c(\"IYE\", \"IYT\", \"IYK\")\n",
        "\n",
        "for (i in tickers){\n",
        "  getSymbols(i, from = \"2004-01-02\", to = \"2022-12-31\")\n",
        "}\n",
        "\n",
        "x <- list(\n",
        "  title = \"date\"\n",
        ")\n",
        "y <- list(\n",
        "  title = \"value\"\n",
        ")\n",
        "\n",
        "stock <- data.frame(IYE$IYE.Adjusted,\n",
        "                    IYT$IYT.Adjusted,\n",
        "                    IYK$IYK.Adjusted)\n",
        "\n",
        "\n",
        "stock <- data.frame(stock,rownames(stock))\n",
        "colnames(stock) <- append(tickers,'Dates')\n",
        "\n",
        "stock$Dates<-as.Date(stock$Dates,\"%Y-%m-%d\")\n",
        "\n",
        "visualization1 <- ggplot(stock, aes(x=Dates)) +\n",
        "                      geom_line(aes(y=IYE, colour=\"IYE\"))+\n",
        "                      geom_line(aes(y=IYT, colour=\"IYT\"))+\n",
        "                      geom_line(aes(y=IYK, colour=\"IYK\"))+\n",
        "                      labs( subtitle = \"From 2018-2022\",\n",
        "                            x = \"Date\",\n",
        "                            y = \"Adjusted Closing Prices\")+\n",
        "                      theme(panel.background = element_rect(fill = \"white\", colour = \"grey50\"),\n",
        "                            legend.text = element_text(size = FS),\n",
        "                            axis.text.x = element_text(size = FS),\n",
        "                            axis.text.y = element_text(size = FS),\n",
        "                            axis.title = element_text(size = FS),\n",
        "                            plot.title = element_text(size = FS))\n",
        "\n",
        "ggplotly(visualization1)"
      ],
      "id": "56a7d0cb",
      "execution_count": null,
      "outputs": []
    }
  ],
  "metadata": {
    "kernelspec": {
      "name": "ir",
      "language": "R",
      "display_name": "R"
    }
  },
  "nbformat": 4,
  "nbformat_minor": 5
}