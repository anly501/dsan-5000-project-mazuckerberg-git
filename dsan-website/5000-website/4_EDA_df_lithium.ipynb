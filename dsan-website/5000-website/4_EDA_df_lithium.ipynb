{
 "cells": [
  {
   "cell_type": "markdown",
   "metadata": {},
   "source": [
    "# Exploratory Data Analysis\n",
    "## df_lithium"
   ]
  },
  {
   "cell_type": "code",
   "execution_count": 9,
   "metadata": {
    "vscode": {
     "languageId": "r"
    }
   },
   "outputs": [],
   "source": [
    "#| echo: false\n",
    "#| message: false\n",
    "#| code-fold: true\n",
    "#| code-summary: \"Libraries\"\n",
    "#| results: 'hide'\n",
    "#| warning: false\n",
    "\n",
    "library(tidyverse)\n",
    "library(ggplot2)\n",
    "library(forecast)\n",
    "library(astsa) \n",
    "library(xts)\n",
    "library(tseries)\n",
    "library(fpp2)\n",
    "library(fma)\n",
    "library(lubridate)\n",
    "library(tidyverse)\n",
    "library(TSstudio)\n",
    "library(quantmod)\n",
    "library(tidyquant)\n",
    "library(plotly)\n",
    "library(ggplot2)\n",
    "library(gridExtra)\n",
    "library(readxl)"
   ]
  },
  {
   "cell_type": "code",
   "execution_count": 4,
   "metadata": {
    "vscode": {
     "languageId": "r"
    }
   },
   "outputs": [],
   "source": [
    "# Read csv file\n",
    "df_production <- read.csv(\"../../data/01-modified-data/clean_lithium-production.csv\")\n",
    "\n",
    "# Read csv file\n",
    "df_demand <- read.csv(\"../../data/01-modified-data/clean_lithium-demand.csv\")\n"
   ]
  },
  {
   "cell_type": "code",
   "execution_count": 13,
   "metadata": {
    "vscode": {
     "languageId": "r"
    }
   },
   "outputs": [
    {
     "data": {
      "text/html": [
       "<table class=\"dataframe\">\n",
       "<caption>A data.frame: 28 × 4</caption>\n",
       "<thead>\n",
       "\t<tr><th scope=col>Entity</th><th scope=col>Code</th><th scope=col>Year</th><th scope=col>Lithium.production...kt</th></tr>\n",
       "\t<tr><th scope=col>&lt;chr&gt;</th><th scope=col>&lt;chr&gt;</th><th scope=col>&lt;int&gt;</th><th scope=col>&lt;dbl&gt;</th></tr>\n",
       "</thead>\n",
       "<tbody>\n",
       "\t<tr><td>United States</td><td>USA</td><td>1995</td><td>3500.000</td></tr>\n",
       "\t<tr><td>United States</td><td>USA</td><td>1996</td><td>4000.000</td></tr>\n",
       "\t<tr><td>United States</td><td>USA</td><td>1997</td><td>4000.000</td></tr>\n",
       "\t<tr><td>United States</td><td>USA</td><td>1998</td><td>1500.000</td></tr>\n",
       "\t<tr><td>United States</td><td>USA</td><td>1999</td><td>1500.000</td></tr>\n",
       "\t<tr><td>United States</td><td>USA</td><td>2000</td><td>1500.000</td></tr>\n",
       "\t<tr><td>United States</td><td>USA</td><td>2001</td><td>1500.000</td></tr>\n",
       "\t<tr><td>United States</td><td>USA</td><td>2002</td><td>1500.000</td></tr>\n",
       "\t<tr><td>United States</td><td>USA</td><td>2003</td><td>1500.000</td></tr>\n",
       "\t<tr><td>United States</td><td>USA</td><td>2004</td><td>1500.000</td></tr>\n",
       "\t<tr><td>United States</td><td>USA</td><td>2005</td><td>1500.000</td></tr>\n",
       "\t<tr><td>United States</td><td>USA</td><td>2006</td><td>1500.000</td></tr>\n",
       "\t<tr><td>United States</td><td>USA</td><td>2007</td><td>1500.000</td></tr>\n",
       "\t<tr><td>United States</td><td>USA</td><td>2008</td><td>1500.000</td></tr>\n",
       "\t<tr><td>United States</td><td>USA</td><td>2009</td><td>1500.000</td></tr>\n",
       "\t<tr><td>United States</td><td>USA</td><td>2010</td><td>1000.000</td></tr>\n",
       "\t<tr><td>United States</td><td>USA</td><td>2011</td><td>1000.000</td></tr>\n",
       "\t<tr><td>United States</td><td>USA</td><td>2012</td><td>1000.000</td></tr>\n",
       "\t<tr><td>United States</td><td>USA</td><td>2013</td><td> 870.000</td></tr>\n",
       "\t<tr><td>United States</td><td>USA</td><td>2014</td><td> 900.000</td></tr>\n",
       "\t<tr><td>United States</td><td>USA</td><td>2015</td><td> 900.000</td></tr>\n",
       "\t<tr><td>United States</td><td>USA</td><td>2016</td><td> 900.000</td></tr>\n",
       "\t<tr><td>United States</td><td>USA</td><td>2017</td><td> 900.000</td></tr>\n",
       "\t<tr><td>United States</td><td>USA</td><td>2018</td><td> 900.000</td></tr>\n",
       "\t<tr><td>United States</td><td>USA</td><td>2019</td><td> 900.000</td></tr>\n",
       "\t<tr><td>United States</td><td>USA</td><td>2020</td><td> 900.000</td></tr>\n",
       "\t<tr><td>United States</td><td>USA</td><td>2021</td><td> 939.234</td></tr>\n",
       "\t<tr><td>United States</td><td>USA</td><td>2022</td><td> 939.234</td></tr>\n",
       "</tbody>\n",
       "</table>\n"
      ],
      "text/latex": [
       "A data.frame: 28 × 4\n",
       "\\begin{tabular}{llll}\n",
       " Entity & Code & Year & Lithium.production...kt\\\\\n",
       " <chr> & <chr> & <int> & <dbl>\\\\\n",
       "\\hline\n",
       "\t United States & USA & 1995 & 3500.000\\\\\n",
       "\t United States & USA & 1996 & 4000.000\\\\\n",
       "\t United States & USA & 1997 & 4000.000\\\\\n",
       "\t United States & USA & 1998 & 1500.000\\\\\n",
       "\t United States & USA & 1999 & 1500.000\\\\\n",
       "\t United States & USA & 2000 & 1500.000\\\\\n",
       "\t United States & USA & 2001 & 1500.000\\\\\n",
       "\t United States & USA & 2002 & 1500.000\\\\\n",
       "\t United States & USA & 2003 & 1500.000\\\\\n",
       "\t United States & USA & 2004 & 1500.000\\\\\n",
       "\t United States & USA & 2005 & 1500.000\\\\\n",
       "\t United States & USA & 2006 & 1500.000\\\\\n",
       "\t United States & USA & 2007 & 1500.000\\\\\n",
       "\t United States & USA & 2008 & 1500.000\\\\\n",
       "\t United States & USA & 2009 & 1500.000\\\\\n",
       "\t United States & USA & 2010 & 1000.000\\\\\n",
       "\t United States & USA & 2011 & 1000.000\\\\\n",
       "\t United States & USA & 2012 & 1000.000\\\\\n",
       "\t United States & USA & 2013 &  870.000\\\\\n",
       "\t United States & USA & 2014 &  900.000\\\\\n",
       "\t United States & USA & 2015 &  900.000\\\\\n",
       "\t United States & USA & 2016 &  900.000\\\\\n",
       "\t United States & USA & 2017 &  900.000\\\\\n",
       "\t United States & USA & 2018 &  900.000\\\\\n",
       "\t United States & USA & 2019 &  900.000\\\\\n",
       "\t United States & USA & 2020 &  900.000\\\\\n",
       "\t United States & USA & 2021 &  939.234\\\\\n",
       "\t United States & USA & 2022 &  939.234\\\\\n",
       "\\end{tabular}\n"
      ],
      "text/markdown": [
       "\n",
       "A data.frame: 28 × 4\n",
       "\n",
       "| Entity &lt;chr&gt; | Code &lt;chr&gt; | Year &lt;int&gt; | Lithium.production...kt &lt;dbl&gt; |\n",
       "|---|---|---|---|\n",
       "| United States | USA | 1995 | 3500.000 |\n",
       "| United States | USA | 1996 | 4000.000 |\n",
       "| United States | USA | 1997 | 4000.000 |\n",
       "| United States | USA | 1998 | 1500.000 |\n",
       "| United States | USA | 1999 | 1500.000 |\n",
       "| United States | USA | 2000 | 1500.000 |\n",
       "| United States | USA | 2001 | 1500.000 |\n",
       "| United States | USA | 2002 | 1500.000 |\n",
       "| United States | USA | 2003 | 1500.000 |\n",
       "| United States | USA | 2004 | 1500.000 |\n",
       "| United States | USA | 2005 | 1500.000 |\n",
       "| United States | USA | 2006 | 1500.000 |\n",
       "| United States | USA | 2007 | 1500.000 |\n",
       "| United States | USA | 2008 | 1500.000 |\n",
       "| United States | USA | 2009 | 1500.000 |\n",
       "| United States | USA | 2010 | 1000.000 |\n",
       "| United States | USA | 2011 | 1000.000 |\n",
       "| United States | USA | 2012 | 1000.000 |\n",
       "| United States | USA | 2013 |  870.000 |\n",
       "| United States | USA | 2014 |  900.000 |\n",
       "| United States | USA | 2015 |  900.000 |\n",
       "| United States | USA | 2016 |  900.000 |\n",
       "| United States | USA | 2017 |  900.000 |\n",
       "| United States | USA | 2018 |  900.000 |\n",
       "| United States | USA | 2019 |  900.000 |\n",
       "| United States | USA | 2020 |  900.000 |\n",
       "| United States | USA | 2021 |  939.234 |\n",
       "| United States | USA | 2022 |  939.234 |\n",
       "\n"
      ],
      "text/plain": [
       "   Entity        Code Year Lithium.production...kt\n",
       "1  United States USA  1995 3500.000               \n",
       "2  United States USA  1996 4000.000               \n",
       "3  United States USA  1997 4000.000               \n",
       "4  United States USA  1998 1500.000               \n",
       "5  United States USA  1999 1500.000               \n",
       "6  United States USA  2000 1500.000               \n",
       "7  United States USA  2001 1500.000               \n",
       "8  United States USA  2002 1500.000               \n",
       "9  United States USA  2003 1500.000               \n",
       "10 United States USA  2004 1500.000               \n",
       "11 United States USA  2005 1500.000               \n",
       "12 United States USA  2006 1500.000               \n",
       "13 United States USA  2007 1500.000               \n",
       "14 United States USA  2008 1500.000               \n",
       "15 United States USA  2009 1500.000               \n",
       "16 United States USA  2010 1000.000               \n",
       "17 United States USA  2011 1000.000               \n",
       "18 United States USA  2012 1000.000               \n",
       "19 United States USA  2013  870.000               \n",
       "20 United States USA  2014  900.000               \n",
       "21 United States USA  2015  900.000               \n",
       "22 United States USA  2016  900.000               \n",
       "23 United States USA  2017  900.000               \n",
       "24 United States USA  2018  900.000               \n",
       "25 United States USA  2019  900.000               \n",
       "26 United States USA  2020  900.000               \n",
       "27 United States USA  2021  939.234               \n",
       "28 United States USA  2022  939.234               "
      ]
     },
     "metadata": {},
     "output_type": "display_data"
    }
   ],
   "source": [
    "df_production <- df_production %>% filter(df_production$Code == \"USA\")\n",
    "\n",
    "df_production"
   ]
  }
 ],
 "metadata": {
  "kernelspec": {
   "display_name": "R",
   "language": "R",
   "name": "ir"
  },
  "language_info": {
   "codemirror_mode": "r",
   "file_extension": ".r",
   "mimetype": "text/x-r-source",
   "name": "R",
   "pygments_lexer": "r",
   "version": "4.3.1"
  }
 },
 "nbformat": 4,
 "nbformat_minor": 2
}
