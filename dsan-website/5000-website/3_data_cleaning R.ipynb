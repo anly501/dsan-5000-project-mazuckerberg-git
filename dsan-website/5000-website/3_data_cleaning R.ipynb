{
 "cells": [
  {
   "cell_type": "markdown",
   "metadata": {},
   "source": [
    "---\n",
    "title: \"Data Gathering R\"\n",
    "---"
   ]
  },
  {
   "cell_type": "code",
   "execution_count": 43,
   "metadata": {
    "vscode": {
     "languageId": "r"
    }
   },
   "outputs": [],
   "source": [
    "#| echo: true\n",
    "#| message: false\n",
    "#| code-fold: true\n",
    "#| code-summary: \"Libraries\"\n",
    "#| results: 'hide'\n",
    "#| warning: false\n",
    "\n",
    "library(tidyverse)\n",
    "library(ggplot2)\n",
    "library(forecast)\n",
    "library(astsa) \n",
    "library(xts)\n",
    "library(tseries)\n",
    "library(fpp2)\n",
    "library(fma)\n",
    "library(lubridate)\n",
    "library(tidyverse)\n",
    "library(TSstudio)\n",
    "library(quantmod)\n",
    "library(tidyquant)\n",
    "library(plotly)\n",
    "library(ggplot2)\n",
    "library(gridExtra)\n",
    "library(readxl)\n",
    "library(zoo)"
   ]
  },
  {
   "cell_type": "markdown",
   "metadata": {},
   "source": [
    "## Global Lithium Production"
   ]
  },
  {
   "cell_type": "code",
   "execution_count": 44,
   "metadata": {
    "vscode": {
     "languageId": "r"
    }
   },
   "outputs": [
    {
     "data": {
      "text/html": [
       "<table class=\"dataframe\">\n",
       "<caption>A data.frame: 10 × 4</caption>\n",
       "<thead>\n",
       "\t<tr><th></th><th scope=col>Entity</th><th scope=col>Code</th><th scope=col>Year</th><th scope=col>Lithium.production...kt</th></tr>\n",
       "\t<tr><th></th><th scope=col>&lt;chr&gt;</th><th scope=col>&lt;chr&gt;</th><th scope=col>&lt;int&gt;</th><th scope=col>&lt;dbl&gt;</th></tr>\n",
       "</thead>\n",
       "<tbody>\n",
       "\t<tr><th scope=row>1</th><td>Argentina</td><td>ARG</td><td>1995</td><td>   8</td></tr>\n",
       "\t<tr><th scope=row>2</th><td>Argentina</td><td>ARG</td><td>1996</td><td>   8</td></tr>\n",
       "\t<tr><th scope=row>3</th><td>Argentina</td><td>ARG</td><td>1997</td><td>   8</td></tr>\n",
       "\t<tr><th scope=row>4</th><td>Argentina</td><td>ARG</td><td>1998</td><td>1130</td></tr>\n",
       "\t<tr><th scope=row>5</th><td>Argentina</td><td>ARG</td><td>1999</td><td> 200</td></tr>\n",
       "\t<tr><th scope=row>6</th><td>Argentina</td><td>ARG</td><td>2000</td><td> 200</td></tr>\n",
       "\t<tr><th scope=row>7</th><td>Argentina</td><td>ARG</td><td>2001</td><td> 200</td></tr>\n",
       "\t<tr><th scope=row>8</th><td>Argentina</td><td>ARG</td><td>2002</td><td> 946</td></tr>\n",
       "\t<tr><th scope=row>9</th><td>Argentina</td><td>ARG</td><td>2003</td><td> 960</td></tr>\n",
       "\t<tr><th scope=row>10</th><td>Argentina</td><td>ARG</td><td>2004</td><td>1970</td></tr>\n",
       "</tbody>\n",
       "</table>\n"
      ],
      "text/latex": [
       "A data.frame: 10 × 4\n",
       "\\begin{tabular}{r|llll}\n",
       "  & Entity & Code & Year & Lithium.production...kt\\\\\n",
       "  & <chr> & <chr> & <int> & <dbl>\\\\\n",
       "\\hline\n",
       "\t1 & Argentina & ARG & 1995 &    8\\\\\n",
       "\t2 & Argentina & ARG & 1996 &    8\\\\\n",
       "\t3 & Argentina & ARG & 1997 &    8\\\\\n",
       "\t4 & Argentina & ARG & 1998 & 1130\\\\\n",
       "\t5 & Argentina & ARG & 1999 &  200\\\\\n",
       "\t6 & Argentina & ARG & 2000 &  200\\\\\n",
       "\t7 & Argentina & ARG & 2001 &  200\\\\\n",
       "\t8 & Argentina & ARG & 2002 &  946\\\\\n",
       "\t9 & Argentina & ARG & 2003 &  960\\\\\n",
       "\t10 & Argentina & ARG & 2004 & 1970\\\\\n",
       "\\end{tabular}\n"
      ],
      "text/markdown": [
       "\n",
       "A data.frame: 10 × 4\n",
       "\n",
       "| <!--/--> | Entity &lt;chr&gt; | Code &lt;chr&gt; | Year &lt;int&gt; | Lithium.production...kt &lt;dbl&gt; |\n",
       "|---|---|---|---|---|\n",
       "| 1 | Argentina | ARG | 1995 |    8 |\n",
       "| 2 | Argentina | ARG | 1996 |    8 |\n",
       "| 3 | Argentina | ARG | 1997 |    8 |\n",
       "| 4 | Argentina | ARG | 1998 | 1130 |\n",
       "| 5 | Argentina | ARG | 1999 |  200 |\n",
       "| 6 | Argentina | ARG | 2000 |  200 |\n",
       "| 7 | Argentina | ARG | 2001 |  200 |\n",
       "| 8 | Argentina | ARG | 2002 |  946 |\n",
       "| 9 | Argentina | ARG | 2003 |  960 |\n",
       "| 10 | Argentina | ARG | 2004 | 1970 |\n",
       "\n"
      ],
      "text/plain": [
       "   Entity    Code Year Lithium.production...kt\n",
       "1  Argentina ARG  1995    8                   \n",
       "2  Argentina ARG  1996    8                   \n",
       "3  Argentina ARG  1997    8                   \n",
       "4  Argentina ARG  1998 1130                   \n",
       "5  Argentina ARG  1999  200                   \n",
       "6  Argentina ARG  2000  200                   \n",
       "7  Argentina ARG  2001  200                   \n",
       "8  Argentina ARG  2002  946                   \n",
       "9  Argentina ARG  2003  960                   \n",
       "10 Argentina ARG  2004 1970                   "
      ]
     },
     "metadata": {},
     "output_type": "display_data"
    },
    {
     "data": {
      "text/plain": [
       "    Entity              Code                Year      Lithium.production...kt\n",
       " Length:224         Length:224         Min.   :1995   Min.   :    8          \n",
       " Class :character   Class :character   1st Qu.:2002   1st Qu.:  495          \n",
       " Mode  :character   Mode  :character   Median :2008   Median : 1500          \n",
       "                                       Mean   :2008   Mean   : 4591          \n",
       "                                       3rd Qu.:2015   3rd Qu.: 4735          \n",
       "                                       Max.   :2022   Max.   :61000          "
      ]
     },
     "metadata": {},
     "output_type": "display_data"
    }
   ],
   "source": [
    "df_production <- read.csv(\"../../data/00-raw-data/lithium-production.csv\")\n",
    "\n",
    "df_production <- df_production %>% filter(nchar(Code) == 3)\n",
    "\n",
    "head(df_production, n = 10)\n",
    "\n",
    "summary(df_production)"
   ]
  },
  {
   "cell_type": "markdown",
   "metadata": {},
   "source": [
    "## Chinese Yuan Renminbi to U.S. Dollar Spot Exchange Rate"
   ]
  },
  {
   "cell_type": "code",
   "execution_count": 45,
   "metadata": {
    "vscode": {
     "languageId": "r"
    }
   },
   "outputs": [
    {
     "data": {
      "text/html": [
       "'DEXCHUS'"
      ],
      "text/latex": [
       "'DEXCHUS'"
      ],
      "text/markdown": [
       "'DEXCHUS'"
      ],
      "text/plain": [
       "[1] \"DEXCHUS\""
      ]
     },
     "metadata": {},
     "output_type": "display_data"
    },
    {
     "data": {
      "text/html": [
       "<table class=\"dataframe\">\n",
       "<caption>A data.frame: 6 × 2</caption>\n",
       "<thead>\n",
       "\t<tr><th></th><th scope=col>DATE</th><th scope=col>DEXCHUS</th></tr>\n",
       "\t<tr><th></th><th scope=col>&lt;date&gt;</th><th scope=col>&lt;dbl&gt;</th></tr>\n",
       "</thead>\n",
       "<tbody>\n",
       "\t<tr><th scope=row>1</th><td>2010-01-01</td><td>    NA</td></tr>\n",
       "\t<tr><th scope=row>2</th><td>2010-01-04</td><td>6.8273</td></tr>\n",
       "\t<tr><th scope=row>3</th><td>2010-01-05</td><td>6.8258</td></tr>\n",
       "\t<tr><th scope=row>4</th><td>2010-01-06</td><td>6.8272</td></tr>\n",
       "\t<tr><th scope=row>5</th><td>2010-01-07</td><td>6.8280</td></tr>\n",
       "\t<tr><th scope=row>6</th><td>2010-01-08</td><td>6.8274</td></tr>\n",
       "</tbody>\n",
       "</table>\n"
      ],
      "text/latex": [
       "A data.frame: 6 × 2\n",
       "\\begin{tabular}{r|ll}\n",
       "  & DATE & DEXCHUS\\\\\n",
       "  & <date> & <dbl>\\\\\n",
       "\\hline\n",
       "\t1 & 2010-01-01 &     NA\\\\\n",
       "\t2 & 2010-01-04 & 6.8273\\\\\n",
       "\t3 & 2010-01-05 & 6.8258\\\\\n",
       "\t4 & 2010-01-06 & 6.8272\\\\\n",
       "\t5 & 2010-01-07 & 6.8280\\\\\n",
       "\t6 & 2010-01-08 & 6.8274\\\\\n",
       "\\end{tabular}\n"
      ],
      "text/markdown": [
       "\n",
       "A data.frame: 6 × 2\n",
       "\n",
       "| <!--/--> | DATE &lt;date&gt; | DEXCHUS &lt;dbl&gt; |\n",
       "|---|---|---|\n",
       "| 1 | 2010-01-01 |     NA |\n",
       "| 2 | 2010-01-04 | 6.8273 |\n",
       "| 3 | 2010-01-05 | 6.8258 |\n",
       "| 4 | 2010-01-06 | 6.8272 |\n",
       "| 5 | 2010-01-07 | 6.8280 |\n",
       "| 6 | 2010-01-08 | 6.8274 |\n",
       "\n"
      ],
      "text/plain": [
       "  DATE       DEXCHUS\n",
       "1 2010-01-01     NA \n",
       "2 2010-01-04 6.8273 \n",
       "3 2010-01-05 6.8258 \n",
       "4 2010-01-06 6.8272 \n",
       "5 2010-01-07 6.8280 \n",
       "6 2010-01-08 6.8274 "
      ]
     },
     "metadata": {},
     "output_type": "display_data"
    },
    {
     "data": {
      "text/plain": [
       "      DATE               DEXCHUS     \n",
       " Min.   :2010-01-01   Min.   :6.040  \n",
       " 1st Qu.:2013-04-02   1st Qu.:6.309  \n",
       " Median :2016-07-01   Median :6.504  \n",
       " Mean   :2016-07-01   Mean   :6.548  \n",
       " 3rd Qu.:2019-10-01   3rd Qu.:6.805  \n",
       " Max.   :2022-12-30   Max.   :7.305  \n",
       "                      NA's   :140    "
      ]
     },
     "metadata": {},
     "output_type": "display_data"
    }
   ],
   "source": [
    "#| echo: true\n",
    "#| message: false\n",
    "#| code-fold: true\n",
    "#| code-summary: \"Libraries\"\n",
    "#| warning: false\n",
    "\n",
    "# Set the start and end dates\n",
    "start_date <- \"2010-01-01\"\n",
    "end_date <- \"2022-12-31\"\n",
    "\n",
    "# Define the symbol for CNY to USD exchange rate\n",
    "symbol <- \"DEXCHUS\"\n",
    "\n",
    "# Use getSymbols() to fetch the data\n",
    "getSymbols(symbol, from = start_date, to = end_date, src = \"FRED\")\n",
    "\n",
    "# Access the data as a data frame\n",
    "df_exchange_rate <- as.data.frame(DEXCHUS)\n",
    "\n",
    "df_exchange_rate <- rownames_to_column(df_exchange_rate, var = \"DATE\")\n",
    "\n",
    "df_exchange_rate$DATE <- as.Date(df_exchange_rate$DATE)\n",
    "\n",
    "# Print the first few rows of the data\n",
    "head(df_exchange_rate)\n",
    "\n",
    "summary(df_exchange_rate)"
   ]
  },
  {
   "cell_type": "markdown",
   "metadata": {},
   "source": [
    "## Global Lithium Demand"
   ]
  },
  {
   "cell_type": "code",
   "execution_count": 46,
   "metadata": {
    "vscode": {
     "languageId": "r"
    }
   },
   "outputs": [],
   "source": [
    "#df <- read_excel(\"./data/00-raw-data/lithium_price.xlsx\")"
   ]
  },
  {
   "cell_type": "markdown",
   "metadata": {},
   "source": [
    "## Commodity Price"
   ]
  },
  {
   "cell_type": "markdown",
   "metadata": {},
   "source": [
    "### Uranium"
   ]
  },
  {
   "cell_type": "code",
   "execution_count": 47,
   "metadata": {
    "vscode": {
     "languageId": "r"
    }
   },
   "outputs": [
    {
     "name": "stderr",
     "output_type": "stream",
     "text": [
      "\u001b[1m\u001b[22mNew names:\n",
      "\u001b[36m*\u001b[39m `` -> `...1`\n",
      "\u001b[36m*\u001b[39m `` -> `...3`\n",
      "\u001b[36m*\u001b[39m `` -> `...5`\n",
      "\u001b[36m*\u001b[39m `` -> `...7`\n",
      "\u001b[36m*\u001b[39m `` -> `...9`\n",
      "\u001b[36m*\u001b[39m `` -> `...11`\n",
      "\u001b[36m*\u001b[39m `` -> `...13`\n",
      "\u001b[36m*\u001b[39m `` -> `...15`\n",
      "\u001b[36m*\u001b[39m `` -> `...17`\n",
      "\u001b[36m*\u001b[39m `` -> `...19`\n",
      "\u001b[36m*\u001b[39m `` -> `...21`\n",
      "\u001b[36m*\u001b[39m `` -> `...23`\n",
      "\u001b[36m*\u001b[39m `` -> `...25`\n",
      "\u001b[36m*\u001b[39m `` -> `...27`\n",
      "\u001b[36m*\u001b[39m `` -> `...29`\n",
      "\u001b[36m*\u001b[39m `` -> `...31`\n",
      "\u001b[36m*\u001b[39m `` -> `...33`\n",
      "\u001b[36m*\u001b[39m `` -> `...35`\n",
      "\u001b[36m*\u001b[39m `` -> `...37`\n",
      "\u001b[36m*\u001b[39m `` -> `...39`\n",
      "\u001b[36m*\u001b[39m `` -> `...41`\n",
      "\u001b[36m*\u001b[39m `` -> `...43`\n",
      "\u001b[36m*\u001b[39m `` -> `...45`\n",
      "\u001b[36m*\u001b[39m `` -> `...47`\n",
      "\u001b[36m*\u001b[39m `` -> `...49`\n",
      "\u001b[36m*\u001b[39m `` -> `...51`\n",
      "\u001b[36m*\u001b[39m `` -> `...53`\n",
      "\u001b[36m*\u001b[39m `` -> `...55`\n",
      "\u001b[36m*\u001b[39m `` -> `...57`\n",
      "\u001b[36m*\u001b[39m `` -> `...59`\n",
      "\u001b[36m*\u001b[39m `` -> `...61`\n",
      "\u001b[36m*\u001b[39m `` -> `...63`\n",
      "\u001b[36m*\u001b[39m `` -> `...65`\n",
      "\u001b[36m*\u001b[39m `` -> `...67`\n",
      "\u001b[36m*\u001b[39m `` -> `...69`\n",
      "\u001b[36m*\u001b[39m `` -> `...71`\n",
      "\u001b[36m*\u001b[39m `` -> `...73`\n",
      "\u001b[36m*\u001b[39m `` -> `...75`\n",
      "\u001b[36m*\u001b[39m `` -> `...77`\n",
      "\u001b[36m*\u001b[39m `` -> `...79`\n",
      "\u001b[36m*\u001b[39m `` -> `...81`\n",
      "\u001b[36m*\u001b[39m `` -> `...83`\n",
      "\u001b[36m*\u001b[39m `` -> `...85`\n",
      "\u001b[36m*\u001b[39m `` -> `...87`\n",
      "\u001b[36m*\u001b[39m `` -> `...89`\n",
      "\u001b[36m*\u001b[39m `` -> `...91`\n",
      "\u001b[36m*\u001b[39m `` -> `...93`\n",
      "\u001b[36m*\u001b[39m `` -> `...95`\n",
      "\u001b[36m*\u001b[39m `` -> `...97`\n",
      "\u001b[36m*\u001b[39m `` -> `...99`\n",
      "\u001b[36m*\u001b[39m `` -> `...101`\n",
      "\u001b[36m*\u001b[39m `` -> `...103`\n",
      "\u001b[36m*\u001b[39m `` -> `...105`\n",
      "\u001b[36m*\u001b[39m `` -> `...107`\n",
      "\u001b[36m*\u001b[39m `` -> `...109`\n",
      "\u001b[36m*\u001b[39m `` -> `...111`\n",
      "\u001b[36m*\u001b[39m `` -> `...113`\n",
      "\u001b[36m*\u001b[39m `` -> `...115`\n",
      "\u001b[36m*\u001b[39m `` -> `...117`\n",
      "\u001b[36m*\u001b[39m `` -> `...119`\n",
      "\u001b[36m*\u001b[39m `` -> `...121`\n",
      "\u001b[36m*\u001b[39m `` -> `...123`\n",
      "\u001b[36m*\u001b[39m `` -> `...125`\n",
      "\u001b[36m*\u001b[39m `` -> `...127`\n",
      "\u001b[36m*\u001b[39m `` -> `...129`\n",
      "\u001b[36m*\u001b[39m `` -> `...131`\n",
      "\u001b[36m*\u001b[39m `` -> `...133`\n",
      "\u001b[36m*\u001b[39m `` -> `...135`\n",
      "\u001b[36m*\u001b[39m `` -> `...137`\n",
      "\u001b[36m*\u001b[39m `` -> `...139`\n",
      "\u001b[36m*\u001b[39m `` -> `...141`\n",
      "\u001b[36m*\u001b[39m `` -> `...143`\n",
      "\u001b[36m*\u001b[39m `` -> `...145`\n",
      "\u001b[36m*\u001b[39m `` -> `...147`\n",
      "\u001b[36m*\u001b[39m `` -> `...149`\n",
      "\u001b[36m*\u001b[39m `` -> `...151`\n",
      "\u001b[36m*\u001b[39m `` -> `...153`\n",
      "\u001b[36m*\u001b[39m `` -> `...155`\n",
      "\u001b[36m*\u001b[39m `` -> `...157`\n",
      "\u001b[36m*\u001b[39m `` -> `...159`\n",
      "\u001b[36m*\u001b[39m `` -> `...161`\n",
      "\u001b[36m*\u001b[39m `` -> `...163`\n",
      "\u001b[36m*\u001b[39m `` -> `...165`\n",
      "\u001b[36m*\u001b[39m `` -> `...167`\n",
      "\u001b[36m*\u001b[39m `` -> `...169`\n",
      "\u001b[36m*\u001b[39m `` -> `...171`\n",
      "\u001b[36m*\u001b[39m `` -> `...173`\n",
      "\u001b[36m*\u001b[39m `` -> `...175`\n",
      "\u001b[36m*\u001b[39m `` -> `...177`\n",
      "\u001b[36m*\u001b[39m `` -> `...179`\n",
      "\u001b[36m*\u001b[39m `` -> `...181`\n",
      "\u001b[36m*\u001b[39m `` -> `...183`\n",
      "\u001b[36m*\u001b[39m `` -> `...185`\n",
      "\u001b[36m*\u001b[39m `` -> `...187`\n",
      "\u001b[36m*\u001b[39m `` -> `...189`\n",
      "\u001b[36m*\u001b[39m `` -> `...191`\n",
      "\u001b[36m*\u001b[39m `` -> `...193`\n",
      "\u001b[36m*\u001b[39m `` -> `...195`\n",
      "\u001b[36m*\u001b[39m `` -> `...197`\n",
      "\u001b[36m*\u001b[39m `` -> `...199`\n",
      "\u001b[36m*\u001b[39m `` -> `...201`\n",
      "\u001b[36m*\u001b[39m `` -> `...203`\n",
      "\u001b[36m*\u001b[39m `` -> `...205`\n",
      "\u001b[36m*\u001b[39m `` -> `...207`\n",
      "\u001b[36m*\u001b[39m `` -> `...209`\n",
      "\u001b[36m*\u001b[39m `` -> `...211`\n",
      "\u001b[36m*\u001b[39m `` -> `...213`\n",
      "\u001b[36m*\u001b[39m `` -> `...215`\n",
      "\u001b[36m*\u001b[39m `` -> `...217`\n",
      "\u001b[36m*\u001b[39m `` -> `...219`\n",
      "\u001b[36m*\u001b[39m `` -> `...221`\n",
      "\u001b[36m*\u001b[39m `` -> `...223`\n",
      "\u001b[36m*\u001b[39m `` -> `...225`\n",
      "\u001b[36m*\u001b[39m `` -> `...227`\n",
      "\u001b[36m*\u001b[39m `` -> `...229`\n",
      "\u001b[36m*\u001b[39m `` -> `...231`\n",
      "\u001b[36m*\u001b[39m `` -> `...233`\n",
      "\u001b[36m*\u001b[39m `` -> `...235`\n",
      "\u001b[36m*\u001b[39m `` -> `...237`\n",
      "\u001b[36m*\u001b[39m `` -> `...239`\n",
      "\u001b[36m*\u001b[39m `` -> `...241`\n",
      "\u001b[36m*\u001b[39m `` -> `...243`\n",
      "\u001b[36m*\u001b[39m `` -> `...245`\n",
      "\u001b[36m*\u001b[39m `` -> `...247`\n",
      "\u001b[36m*\u001b[39m `` -> `...249`\n",
      "\u001b[36m*\u001b[39m `` -> `...251`\n",
      "\u001b[36m*\u001b[39m `` -> `...253`\n",
      "\u001b[36m*\u001b[39m `` -> `...255`\n",
      "\u001b[36m*\u001b[39m `` -> `...257`\n",
      "\u001b[36m*\u001b[39m `` -> `...259`\n",
      "\u001b[36m*\u001b[39m `` -> `...261`\n",
      "\u001b[36m*\u001b[39m `` -> `...263`\n",
      "\u001b[36m*\u001b[39m `` -> `...265`\n"
     ]
    }
   ],
   "source": [
    "#| echo: true\n",
    "#| message: false\n",
    "#| code-fold: true\n",
    "#| code-summary: \"Data Cleaning Code\"\n",
    "#| warning: false\n",
    "\n",
    "df_commodity_price <- read_excel(\"../../data/00-raw-data/commodity_price.xlsx\")\n",
    "\n",
    "df_commodity_price <- df_commodity_price %>%\n",
    "  pivot_longer(cols = -c('...1'), \n",
    "               names_to = \"Month_Year\",\n",
    "               values_to = \"Price\")\n",
    "\n",
    "df_commodity_price <- df_commodity_price %>% filter(!is.na(Price) & Price != \"\")\n",
    "\n",
    "df_commodity_price$Month_Year <- as.yearmon(df_commodity_price$Month_Year, format = \"%b %Y\")\n",
    "\n",
    "df_commodity_price$Month_Year <- format(df_commodity_price$Month_Year, \"%m-%Y\")\n",
    "\n",
    "df_commodity_price$Month_Year <- paste(\"01-\", df_commodity_price$Month_Year, sep = \"\")\n",
    "\n",
    "df_commodity_price$Month_Year <- as.Date(df_commodity_price$Month_Year, format = \"%d-%m-%Y\")\n",
    "\n",
    "names(df_commodity_price) <- c('Commodity', 'DATE', 'Price')\n",
    "\n",
    "df_uranium_price <- df_commodity_price %>%\n",
    "  filter(Commodity == \"Uranium\")\n",
    "\n",
    "#df_uranium_price <- head(df_uranium_price, n = 10)\n"
   ]
  },
  {
   "cell_type": "code",
   "execution_count": 48,
   "metadata": {
    "vscode": {
     "languageId": "r"
    }
   },
   "outputs": [
    {
     "data": {
      "text/html": [
       "<table class=\"dataframe\">\n",
       "<caption>A tibble: 20 × 3</caption>\n",
       "<thead>\n",
       "\t<tr><th scope=col>Commodity</th><th scope=col>DATE</th><th scope=col>Price</th></tr>\n",
       "\t<tr><th scope=col>&lt;chr&gt;</th><th scope=col>&lt;date&gt;</th><th scope=col>&lt;dbl&gt;</th></tr>\n",
       "</thead>\n",
       "<tbody>\n",
       "\t<tr><td>Uranium</td><td>2012-01-01</td><td>52.31250</td></tr>\n",
       "\t<tr><td>Uranium</td><td>2012-02-01</td><td>52.05556</td></tr>\n",
       "\t<tr><td>Uranium</td><td>2012-03-01</td><td>51.28889</td></tr>\n",
       "\t<tr><td>Uranium</td><td>2012-04-01</td><td>51.30000</td></tr>\n",
       "\t<tr><td>Uranium</td><td>2012-05-01</td><td>51.88889</td></tr>\n",
       "\t<tr><td>Uranium</td><td>2012-06-01</td><td>50.83333</td></tr>\n",
       "\t<tr><td>Uranium</td><td>2012-07-01</td><td>50.35556</td></tr>\n",
       "\t<tr><td>Uranium</td><td>2012-08-01</td><td>49.25000</td></tr>\n",
       "\t<tr><td>Uranium</td><td>2012-09-01</td><td>47.72500</td></tr>\n",
       "\t<tr><td>Uranium</td><td>2012-10-01</td><td>44.61111</td></tr>\n",
       "\t<tr><td>Uranium</td><td>2012-11-01</td><td>41.50000</td></tr>\n",
       "\t<tr><td>Uranium</td><td>2012-12-01</td><td>43.66667</td></tr>\n",
       "\t<tr><td>Uranium</td><td>2013-01-01</td><td>42.75000</td></tr>\n",
       "\t<tr><td>Uranium</td><td>2013-02-01</td><td>43.40625</td></tr>\n",
       "\t<tr><td>Uranium</td><td>2013-03-01</td><td>42.28125</td></tr>\n",
       "\t<tr><td>Uranium</td><td>2013-04-01</td><td>41.41250</td></tr>\n",
       "\t<tr><td>Uranium</td><td>2013-05-01</td><td>40.60500</td></tr>\n",
       "\t<tr><td>Uranium</td><td>2013-06-01</td><td>39.93750</td></tr>\n",
       "\t<tr><td>Uranium</td><td>2013-07-01</td><td>38.02222</td></tr>\n",
       "\t<tr><td>Uranium</td><td>2013-08-01</td><td>34.99416</td></tr>\n",
       "</tbody>\n",
       "</table>\n"
      ],
      "text/latex": [
       "A tibble: 20 × 3\n",
       "\\begin{tabular}{lll}\n",
       " Commodity & DATE & Price\\\\\n",
       " <chr> & <date> & <dbl>\\\\\n",
       "\\hline\n",
       "\t Uranium & 2012-01-01 & 52.31250\\\\\n",
       "\t Uranium & 2012-02-01 & 52.05556\\\\\n",
       "\t Uranium & 2012-03-01 & 51.28889\\\\\n",
       "\t Uranium & 2012-04-01 & 51.30000\\\\\n",
       "\t Uranium & 2012-05-01 & 51.88889\\\\\n",
       "\t Uranium & 2012-06-01 & 50.83333\\\\\n",
       "\t Uranium & 2012-07-01 & 50.35556\\\\\n",
       "\t Uranium & 2012-08-01 & 49.25000\\\\\n",
       "\t Uranium & 2012-09-01 & 47.72500\\\\\n",
       "\t Uranium & 2012-10-01 & 44.61111\\\\\n",
       "\t Uranium & 2012-11-01 & 41.50000\\\\\n",
       "\t Uranium & 2012-12-01 & 43.66667\\\\\n",
       "\t Uranium & 2013-01-01 & 42.75000\\\\\n",
       "\t Uranium & 2013-02-01 & 43.40625\\\\\n",
       "\t Uranium & 2013-03-01 & 42.28125\\\\\n",
       "\t Uranium & 2013-04-01 & 41.41250\\\\\n",
       "\t Uranium & 2013-05-01 & 40.60500\\\\\n",
       "\t Uranium & 2013-06-01 & 39.93750\\\\\n",
       "\t Uranium & 2013-07-01 & 38.02222\\\\\n",
       "\t Uranium & 2013-08-01 & 34.99416\\\\\n",
       "\\end{tabular}\n"
      ],
      "text/markdown": [
       "\n",
       "A tibble: 20 × 3\n",
       "\n",
       "| Commodity &lt;chr&gt; | DATE &lt;date&gt; | Price &lt;dbl&gt; |\n",
       "|---|---|---|\n",
       "| Uranium | 2012-01-01 | 52.31250 |\n",
       "| Uranium | 2012-02-01 | 52.05556 |\n",
       "| Uranium | 2012-03-01 | 51.28889 |\n",
       "| Uranium | 2012-04-01 | 51.30000 |\n",
       "| Uranium | 2012-05-01 | 51.88889 |\n",
       "| Uranium | 2012-06-01 | 50.83333 |\n",
       "| Uranium | 2012-07-01 | 50.35556 |\n",
       "| Uranium | 2012-08-01 | 49.25000 |\n",
       "| Uranium | 2012-09-01 | 47.72500 |\n",
       "| Uranium | 2012-10-01 | 44.61111 |\n",
       "| Uranium | 2012-11-01 | 41.50000 |\n",
       "| Uranium | 2012-12-01 | 43.66667 |\n",
       "| Uranium | 2013-01-01 | 42.75000 |\n",
       "| Uranium | 2013-02-01 | 43.40625 |\n",
       "| Uranium | 2013-03-01 | 42.28125 |\n",
       "| Uranium | 2013-04-01 | 41.41250 |\n",
       "| Uranium | 2013-05-01 | 40.60500 |\n",
       "| Uranium | 2013-06-01 | 39.93750 |\n",
       "| Uranium | 2013-07-01 | 38.02222 |\n",
       "| Uranium | 2013-08-01 | 34.99416 |\n",
       "\n"
      ],
      "text/plain": [
       "   Commodity DATE       Price   \n",
       "1  Uranium   2012-01-01 52.31250\n",
       "2  Uranium   2012-02-01 52.05556\n",
       "3  Uranium   2012-03-01 51.28889\n",
       "4  Uranium   2012-04-01 51.30000\n",
       "5  Uranium   2012-05-01 51.88889\n",
       "6  Uranium   2012-06-01 50.83333\n",
       "7  Uranium   2012-07-01 50.35556\n",
       "8  Uranium   2012-08-01 49.25000\n",
       "9  Uranium   2012-09-01 47.72500\n",
       "10 Uranium   2012-10-01 44.61111\n",
       "11 Uranium   2012-11-01 41.50000\n",
       "12 Uranium   2012-12-01 43.66667\n",
       "13 Uranium   2013-01-01 42.75000\n",
       "14 Uranium   2013-02-01 43.40625\n",
       "15 Uranium   2013-03-01 42.28125\n",
       "16 Uranium   2013-04-01 41.41250\n",
       "17 Uranium   2013-05-01 40.60500\n",
       "18 Uranium   2013-06-01 39.93750\n",
       "19 Uranium   2013-07-01 38.02222\n",
       "20 Uranium   2013-08-01 34.99416"
      ]
     },
     "metadata": {},
     "output_type": "display_data"
    }
   ],
   "source": [
    "head(df_uranium_price,20)"
   ]
  },
  {
   "cell_type": "markdown",
   "metadata": {},
   "source": [
    "### Natural Gas"
   ]
  },
  {
   "cell_type": "code",
   "execution_count": 49,
   "metadata": {
    "vscode": {
     "languageId": "r"
    }
   },
   "outputs": [
    {
     "data": {
      "text/html": [
       "'GASREGCOVW'"
      ],
      "text/latex": [
       "'GASREGCOVW'"
      ],
      "text/markdown": [
       "'GASREGCOVW'"
      ],
      "text/plain": [
       "[1] \"GASREGCOVW\""
      ]
     },
     "metadata": {},
     "output_type": "display_data"
    },
    {
     "data": {
      "text/html": [
       "<table class=\"dataframe\">\n",
       "<caption>A data.frame: 10 × 2</caption>\n",
       "<thead>\n",
       "\t<tr><th></th><th scope=col>DATE</th><th scope=col>GASREGCOVW</th></tr>\n",
       "\t<tr><th></th><th scope=col>&lt;date&gt;</th><th scope=col>&lt;dbl&gt;</th></tr>\n",
       "</thead>\n",
       "<tbody>\n",
       "\t<tr><th scope=row>1</th><td>2012-01-02</td><td>3.254</td></tr>\n",
       "\t<tr><th scope=row>2</th><td>2012-01-09</td><td>3.333</td></tr>\n",
       "\t<tr><th scope=row>3</th><td>2012-01-16</td><td>3.342</td></tr>\n",
       "\t<tr><th scope=row>4</th><td>2012-01-23</td><td>3.333</td></tr>\n",
       "\t<tr><th scope=row>5</th><td>2012-01-30</td><td>3.386</td></tr>\n",
       "\t<tr><th scope=row>6</th><td>2012-02-06</td><td>3.436</td></tr>\n",
       "\t<tr><th scope=row>7</th><td>2012-02-13</td><td>3.466</td></tr>\n",
       "\t<tr><th scope=row>8</th><td>2012-02-20</td><td>3.523</td></tr>\n",
       "\t<tr><th scope=row>9</th><td>2012-02-27</td><td>3.641</td></tr>\n",
       "\t<tr><th scope=row>10</th><td>2012-03-05</td><td>3.717</td></tr>\n",
       "</tbody>\n",
       "</table>\n"
      ],
      "text/latex": [
       "A data.frame: 10 × 2\n",
       "\\begin{tabular}{r|ll}\n",
       "  & DATE & GASREGCOVW\\\\\n",
       "  & <date> & <dbl>\\\\\n",
       "\\hline\n",
       "\t1 & 2012-01-02 & 3.254\\\\\n",
       "\t2 & 2012-01-09 & 3.333\\\\\n",
       "\t3 & 2012-01-16 & 3.342\\\\\n",
       "\t4 & 2012-01-23 & 3.333\\\\\n",
       "\t5 & 2012-01-30 & 3.386\\\\\n",
       "\t6 & 2012-02-06 & 3.436\\\\\n",
       "\t7 & 2012-02-13 & 3.466\\\\\n",
       "\t8 & 2012-02-20 & 3.523\\\\\n",
       "\t9 & 2012-02-27 & 3.641\\\\\n",
       "\t10 & 2012-03-05 & 3.717\\\\\n",
       "\\end{tabular}\n"
      ],
      "text/markdown": [
       "\n",
       "A data.frame: 10 × 2\n",
       "\n",
       "| <!--/--> | DATE &lt;date&gt; | GASREGCOVW &lt;dbl&gt; |\n",
       "|---|---|---|\n",
       "| 1 | 2012-01-02 | 3.254 |\n",
       "| 2 | 2012-01-09 | 3.333 |\n",
       "| 3 | 2012-01-16 | 3.342 |\n",
       "| 4 | 2012-01-23 | 3.333 |\n",
       "| 5 | 2012-01-30 | 3.386 |\n",
       "| 6 | 2012-02-06 | 3.436 |\n",
       "| 7 | 2012-02-13 | 3.466 |\n",
       "| 8 | 2012-02-20 | 3.523 |\n",
       "| 9 | 2012-02-27 | 3.641 |\n",
       "| 10 | 2012-03-05 | 3.717 |\n",
       "\n"
      ],
      "text/plain": [
       "   DATE       GASREGCOVW\n",
       "1  2012-01-02 3.254     \n",
       "2  2012-01-09 3.333     \n",
       "3  2012-01-16 3.342     \n",
       "4  2012-01-23 3.333     \n",
       "5  2012-01-30 3.386     \n",
       "6  2012-02-06 3.436     \n",
       "7  2012-02-13 3.466     \n",
       "8  2012-02-20 3.523     \n",
       "9  2012-02-27 3.641     \n",
       "10 2012-03-05 3.717     "
      ]
     },
     "metadata": {},
     "output_type": "display_data"
    }
   ],
   "source": [
    "# Set the start and end dates\n",
    "start_date <- \"2012-01-01\"\n",
    "end_date <- \"2022-12-31\"\n",
    "\n",
    "# Define the symbol for Gas Price to USD exchange rate\n",
    "symbol <- \"GASREGCOVW\"\n",
    "\n",
    "# Use getSymbols() to fetch the data\n",
    "getSymbols(symbol, from = start_date, to = end_date, src = \"FRED\")\n",
    "\n",
    "# Access the data as a data frame\n",
    "df_gas_price <- as.data.frame(GASREGCOVW)\n",
    "\n",
    "df_gas_price <- rownames_to_column(df_gas_price, var = \"DATE\")\n",
    "\n",
    "df_gas_price$DATE <- as.Date(df_gas_price$DATE)\n",
    "\n",
    "# Print the first few rows of the data\n",
    "head(df_gas_price, 10)"
   ]
  },
  {
   "cell_type": "code",
   "execution_count": 50,
   "metadata": {
    "vscode": {
     "languageId": "r"
    }
   },
   "outputs": [
    {
     "data": {
      "text/html": [
       "<table class=\"dataframe\">\n",
       "<caption>A tibble: 10 × 2</caption>\n",
       "<thead>\n",
       "\t<tr><th scope=col>GASREGCOVW</th><th scope=col>DATE</th></tr>\n",
       "\t<tr><th scope=col>&lt;dbl&gt;</th><th scope=col>&lt;date&gt;</th></tr>\n",
       "</thead>\n",
       "<tbody>\n",
       "\t<tr><td>3.254</td><td>2012-01-01</td></tr>\n",
       "\t<tr><td>3.436</td><td>2012-02-01</td></tr>\n",
       "\t<tr><td>3.717</td><td>2012-03-01</td></tr>\n",
       "\t<tr><td>3.874</td><td>2012-04-01</td></tr>\n",
       "\t<tr><td>3.718</td><td>2012-05-01</td></tr>\n",
       "\t<tr><td>3.518</td><td>2012-06-01</td></tr>\n",
       "\t<tr><td>3.291</td><td>2012-07-01</td></tr>\n",
       "\t<tr><td>3.606</td><td>2012-08-01</td></tr>\n",
       "\t<tr><td>3.797</td><td>2012-09-01</td></tr>\n",
       "\t<tr><td>3.750</td><td>2012-10-01</td></tr>\n",
       "</tbody>\n",
       "</table>\n"
      ],
      "text/latex": [
       "A tibble: 10 × 2\n",
       "\\begin{tabular}{ll}\n",
       " GASREGCOVW & DATE\\\\\n",
       " <dbl> & <date>\\\\\n",
       "\\hline\n",
       "\t 3.254 & 2012-01-01\\\\\n",
       "\t 3.436 & 2012-02-01\\\\\n",
       "\t 3.717 & 2012-03-01\\\\\n",
       "\t 3.874 & 2012-04-01\\\\\n",
       "\t 3.718 & 2012-05-01\\\\\n",
       "\t 3.518 & 2012-06-01\\\\\n",
       "\t 3.291 & 2012-07-01\\\\\n",
       "\t 3.606 & 2012-08-01\\\\\n",
       "\t 3.797 & 2012-09-01\\\\\n",
       "\t 3.750 & 2012-10-01\\\\\n",
       "\\end{tabular}\n"
      ],
      "text/markdown": [
       "\n",
       "A tibble: 10 × 2\n",
       "\n",
       "| GASREGCOVW &lt;dbl&gt; | DATE &lt;date&gt; |\n",
       "|---|---|\n",
       "| 3.254 | 2012-01-01 |\n",
       "| 3.436 | 2012-02-01 |\n",
       "| 3.717 | 2012-03-01 |\n",
       "| 3.874 | 2012-04-01 |\n",
       "| 3.718 | 2012-05-01 |\n",
       "| 3.518 | 2012-06-01 |\n",
       "| 3.291 | 2012-07-01 |\n",
       "| 3.606 | 2012-08-01 |\n",
       "| 3.797 | 2012-09-01 |\n",
       "| 3.750 | 2012-10-01 |\n",
       "\n"
      ],
      "text/plain": [
       "   GASREGCOVW DATE      \n",
       "1  3.254      2012-01-01\n",
       "2  3.436      2012-02-01\n",
       "3  3.717      2012-03-01\n",
       "4  3.874      2012-04-01\n",
       "5  3.718      2012-05-01\n",
       "6  3.518      2012-06-01\n",
       "7  3.291      2012-07-01\n",
       "8  3.606      2012-08-01\n",
       "9  3.797      2012-09-01\n",
       "10 3.750      2012-10-01"
      ]
     },
     "metadata": {},
     "output_type": "display_data"
    }
   ],
   "source": [
    "df_gas_price <- df_gas_price %>%\n",
    "    mutate(Year = year(DATE)) %>%\n",
    "    mutate(Month = month(DATE)) %>%\n",
    "    mutate(Day = day(DATE))\n",
    "\n",
    "df_gas_price <- df_gas_price %>%\n",
    "    group_by(Year, Month) %>%\n",
    "    filter(Day == min(Day)) %>%\n",
    "    ungroup()\n",
    "\n",
    "df_gas_price <- df_gas_price %>%\n",
    "    select(GASREGCOVW, Year, Month, Day)\n",
    "\n",
    "df_gas_price <- df_gas_price %>%\n",
    "    mutate(DATE = paste(Year, Month, '01', sep = \"-\"))\n",
    "\n",
    "df_gas_price$DATE <- as.Date(df_gas_price$DATE)\n",
    "\n",
    "df_gas_price <- df_gas_price %>%\n",
    "    select(GASREGCOVW, DATE)\n",
    "\n",
    "head(df_gas_price, 10)"
   ]
  },
  {
   "cell_type": "code",
   "execution_count": 51,
   "metadata": {
    "vscode": {
     "languageId": "r"
    }
   },
   "outputs": [
    {
     "data": {
      "text/html": [
       "<table class=\"dataframe\">\n",
       "<caption>A data.frame: 10 × 3</caption>\n",
       "<thead>\n",
       "\t<tr><th></th><th scope=col>DATE</th><th scope=col>Uranium</th><th scope=col>Natural Gas</th></tr>\n",
       "\t<tr><th></th><th scope=col>&lt;date&gt;</th><th scope=col>&lt;dbl&gt;</th><th scope=col>&lt;dbl&gt;</th></tr>\n",
       "</thead>\n",
       "<tbody>\n",
       "\t<tr><th scope=row>1</th><td>2012-01-01</td><td>52.31250</td><td>3.254</td></tr>\n",
       "\t<tr><th scope=row>2</th><td>2012-02-01</td><td>52.05556</td><td>3.436</td></tr>\n",
       "\t<tr><th scope=row>3</th><td>2012-03-01</td><td>51.28889</td><td>3.717</td></tr>\n",
       "\t<tr><th scope=row>4</th><td>2012-04-01</td><td>51.30000</td><td>3.874</td></tr>\n",
       "\t<tr><th scope=row>5</th><td>2012-05-01</td><td>51.88889</td><td>3.718</td></tr>\n",
       "\t<tr><th scope=row>6</th><td>2012-06-01</td><td>50.83333</td><td>3.518</td></tr>\n",
       "\t<tr><th scope=row>7</th><td>2012-07-01</td><td>50.35556</td><td>3.291</td></tr>\n",
       "\t<tr><th scope=row>8</th><td>2012-08-01</td><td>49.25000</td><td>3.606</td></tr>\n",
       "\t<tr><th scope=row>9</th><td>2012-09-01</td><td>47.72500</td><td>3.797</td></tr>\n",
       "\t<tr><th scope=row>10</th><td>2012-10-01</td><td>44.61111</td><td>3.750</td></tr>\n",
       "</tbody>\n",
       "</table>\n"
      ],
      "text/latex": [
       "A data.frame: 10 × 3\n",
       "\\begin{tabular}{r|lll}\n",
       "  & DATE & Uranium & Natural Gas\\\\\n",
       "  & <date> & <dbl> & <dbl>\\\\\n",
       "\\hline\n",
       "\t1 & 2012-01-01 & 52.31250 & 3.254\\\\\n",
       "\t2 & 2012-02-01 & 52.05556 & 3.436\\\\\n",
       "\t3 & 2012-03-01 & 51.28889 & 3.717\\\\\n",
       "\t4 & 2012-04-01 & 51.30000 & 3.874\\\\\n",
       "\t5 & 2012-05-01 & 51.88889 & 3.718\\\\\n",
       "\t6 & 2012-06-01 & 50.83333 & 3.518\\\\\n",
       "\t7 & 2012-07-01 & 50.35556 & 3.291\\\\\n",
       "\t8 & 2012-08-01 & 49.25000 & 3.606\\\\\n",
       "\t9 & 2012-09-01 & 47.72500 & 3.797\\\\\n",
       "\t10 & 2012-10-01 & 44.61111 & 3.750\\\\\n",
       "\\end{tabular}\n"
      ],
      "text/markdown": [
       "\n",
       "A data.frame: 10 × 3\n",
       "\n",
       "| <!--/--> | DATE &lt;date&gt; | Uranium &lt;dbl&gt; | Natural Gas &lt;dbl&gt; |\n",
       "|---|---|---|---|\n",
       "| 1 | 2012-01-01 | 52.31250 | 3.254 |\n",
       "| 2 | 2012-02-01 | 52.05556 | 3.436 |\n",
       "| 3 | 2012-03-01 | 51.28889 | 3.717 |\n",
       "| 4 | 2012-04-01 | 51.30000 | 3.874 |\n",
       "| 5 | 2012-05-01 | 51.88889 | 3.718 |\n",
       "| 6 | 2012-06-01 | 50.83333 | 3.518 |\n",
       "| 7 | 2012-07-01 | 50.35556 | 3.291 |\n",
       "| 8 | 2012-08-01 | 49.25000 | 3.606 |\n",
       "| 9 | 2012-09-01 | 47.72500 | 3.797 |\n",
       "| 10 | 2012-10-01 | 44.61111 | 3.750 |\n",
       "\n"
      ],
      "text/plain": [
       "   DATE       Uranium  Natural Gas\n",
       "1  2012-01-01 52.31250 3.254      \n",
       "2  2012-02-01 52.05556 3.436      \n",
       "3  2012-03-01 51.28889 3.717      \n",
       "4  2012-04-01 51.30000 3.874      \n",
       "5  2012-05-01 51.88889 3.718      \n",
       "6  2012-06-01 50.83333 3.518      \n",
       "7  2012-07-01 50.35556 3.291      \n",
       "8  2012-08-01 49.25000 3.606      \n",
       "9  2012-09-01 47.72500 3.797      \n",
       "10 2012-10-01 44.61111 3.750      "
      ]
     },
     "metadata": {},
     "output_type": "display_data"
    }
   ],
   "source": [
    "df_uranium_price <- df_uranium_price %>% select(DATE, Price)\n",
    "\n",
    "names(df_uranium_price) <- c('DATE', 'Uranium')\n",
    "names(df_gas_price) <- c('Natural Gas', 'DATE')\n",
    "\n",
    "df_resource_price <- merge(df_uranium_price, df_gas_price, by.x = 'DATE', by.y = 'DATE', all = TRUE)\n",
    "\n",
    "head(df_resource_price, 10)"
   ]
  }
 ],
 "metadata": {
  "kernelspec": {
   "display_name": "R",
   "language": "R",
   "name": "ir"
  },
  "language_info": {
   "codemirror_mode": "r",
   "file_extension": ".r",
   "mimetype": "text/x-r-source",
   "name": "R",
   "pygments_lexer": "r",
   "version": "4.3.1"
  },
  "orig_nbformat": 4
 },
 "nbformat": 4,
 "nbformat_minor": 2
}
