{
  "cells": [
    {
      "cell_type": "raw",
      "metadata": {},
      "source": [
        "---\n",
        "title: Data Cleaning\n",
        "format:\n",
        "  html:\n",
        "    code-fold: true\n",
        "    code-summary: Show the code\n",
        "    code-copy: hover\n",
        "---"
      ],
      "id": "3968073c"
    },
    {
      "cell_type": "markdown",
      "metadata": {},
      "source": [
        "### Lithium News"
      ],
      "id": "75fc2c50"
    },
    {
      "cell_type": "code",
      "metadata": {
        "message": false
      },
      "source": [
        "#| echo: true\n",
        "#| code-fold: true\n",
        "\n",
        "from datetime import date\n",
        "from dateutil.relativedelta import relativedelta\n",
        "from newsapi.newsapi_client import NewsApiClient\n",
        "import pandas as pd"
      ],
      "id": "a3f2da37",
      "execution_count": null,
      "outputs": []
    },
    {
      "cell_type": "code",
      "metadata": {
        "message": false
      },
      "source": [
        "#| echo: true\n",
        "#| code-fold: true\n",
        "date = date.today()\n",
        "date_past = date - relativedelta(months=1)\n",
        "\n",
        "f = open('auth.k','r', encoding=\"utf-8\")\n",
        "ak = f.readlines()\n",
        "f.close()\n",
        "\n",
        "newsapi = NewsApiClient(api_key=ak[0])\n",
        "\n",
        "sources = newsapi.get_sources()\n",
        "\n",
        "sources = pd.DataFrame(sources['sources'])\n",
        "\n",
        "sources = sources[(sources['language'] == 'en') & (sources['country'] == 'us') & ~sources['category'].isin(['sports', 'entertainment', 'health'])]\n",
        "\n",
        "sources.head(5)"
      ],
      "id": "1643b78a",
      "execution_count": null,
      "outputs": []
    },
    {
      "cell_type": "code",
      "metadata": {
        "message": false
      },
      "source": [
        "#| echo: true\n",
        "#| code-fold: true\n",
        "df_sources = ', '.join(sources['id'].astype(str))\n",
        "\n",
        "df_domains = ', '.join(sources['url'].astype(str))\n",
        "\n",
        "all_articles = newsapi.get_everything(q='lithium',\n",
        "                                      sources=str(df_sources),\n",
        "                                      domains=str(df_domains),\n",
        "                                      from_param=date_past,\n",
        "                                      to=date,\n",
        "                                      language='en',\n",
        "                                      sort_by='relevancy')\n",
        "\n",
        "df_articles = pd.DataFrame(all_articles['articles'])\n",
        "\n",
        "df_articles.head(5)"
      ],
      "id": "a651c886",
      "execution_count": null,
      "outputs": []
    },
    {
      "cell_type": "markdown",
      "metadata": {},
      "source": [
        "### IBM Watson - Sentiment Analysis"
      ],
      "id": "e0e3344e"
    },
    {
      "cell_type": "code",
      "metadata": {
        "message": false
      },
      "source": [
        "#| echo: true\n",
        "#| code-fold: true\n",
        "import json\n",
        "from ibm_watson import NaturalLanguageUnderstandingV1\n",
        "from ibm_cloud_sdk_core.authenticators import IAMAuthenticator\n",
        "from ibm_watson.natural_language_understanding_v1 import Features, SentimentOptions\n",
        "\n",
        "import os"
      ],
      "id": "559ce067",
      "execution_count": null,
      "outputs": []
    },
    {
      "cell_type": "code",
      "metadata": {
        "message": false
      },
      "source": [
        "#| echo: true\n",
        "#| code-fold: true\n",
        "df_content = pd.DataFrame(df_articles, columns=['source', 'content'])\n",
        "df_content['source'] = df_content['source'].apply(lambda x: x['id'])\n",
        "\n",
        "authenticator = IAMAuthenticator('_4YE1Qj6PFjke1zYsp7Kapgfu5laaaBE1E_ZUw1IiUPa')\n",
        "natural_language_understanding = NaturalLanguageUnderstandingV1(\n",
        "    version='2020-08-01',\n",
        "    authenticator=authenticator\n",
        ")\n",
        "\n",
        "natural_language_understanding.set_service_url('https://api.us-south.natural-language-understanding.watson.cloud.ibm.com/instances/8b0909d1-3768-4c54-b80d-b9817610e36d')\n",
        "\n",
        "#IBM Watson\n",
        "i = 0\n",
        "ibm_source = []\n",
        "ibm_score = []\n",
        "ibm_label = []\n",
        "for index, row in df_content.iterrows():\n",
        "    response = natural_language_understanding.analyze(\n",
        "    text=row['content'], language = 'en',\n",
        "    features=Features(sentiment=SentimentOptions())).get_result()\n",
        "\n",
        "    s = row['source']\n",
        "    ibm_source.append(s)\n",
        "    x = response['sentiment']['document']['score']\n",
        "    x = round(x, 4)\n",
        "    ibm_score.append(x)\n",
        "    y = response['sentiment']['document']['label']\n",
        "    ibm_label.append(y)\n",
        "    #print(response['sentiment']['document']['score'])\n",
        "    #print(response['sentiment']['document']['label'])\n",
        "    #print(json.dumps(response, indent=2))\n",
        "\n",
        "    i=i+1   \n",
        "\n",
        "results = {\"id\": ibm_source, \"ibm_score\": ibm_score, \"ibm_label\": ibm_label}\n",
        "\n",
        "results = pd.DataFrame(data = results)"
      ],
      "id": "42cf8be6",
      "execution_count": null,
      "outputs": []
    },
    {
      "cell_type": "code",
      "metadata": {
        "message": false
      },
      "source": [
        "#| echo: true\n",
        "#| code-fold: true\n",
        "date = date.today()\n",
        "name = str(date) + '_results.csv'\n",
        "\n",
        "results.to_csv(name, index=False)\n",
        "\n",
        "results = results.merge(sources, how='left')\n",
        "\n",
        "results = pd.DataFrame(results, columns=['name', 'category', 'ibm_score', 'ibm_label'])\n",
        "\n",
        "results.head(5)"
      ],
      "id": "e9b489b8",
      "execution_count": null,
      "outputs": []
    }
  ],
  "metadata": {
    "kernelspec": {
      "name": "python3",
      "language": "python",
      "display_name": "Python 3 (ipykernel)"
    }
  },
  "nbformat": 4,
  "nbformat_minor": 5
}