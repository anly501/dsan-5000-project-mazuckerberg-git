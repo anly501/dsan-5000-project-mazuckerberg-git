{
 "cells": [
  {
   "cell_type": "markdown",
   "metadata": {},
   "source": [
    "---\n",
    "title: \"Data Gathering R\"\n",
    "---"
   ]
  },
  {
   "cell_type": "code",
   "execution_count": 12,
   "metadata": {
    "vscode": {
     "languageId": "r"
    }
   },
   "outputs": [],
   "source": [
    "#| echo: true\n",
    "#| message: false\n",
    "#| code-fold: true\n",
    "#| code-summary: \"Libraries\"\n",
    "#| results: 'hide'\n",
    "#| warning: false\n",
    "\n",
    "library(tidyverse)\n",
    "library(ggplot2)\n",
    "library(forecast)\n",
    "library(astsa) \n",
    "library(xts)\n",
    "library(tseries)\n",
    "library(fpp2)\n",
    "library(fma)\n",
    "library(lubridate)\n",
    "library(tidyverse)\n",
    "library(TSstudio)\n",
    "library(quantmod)\n",
    "library(tidyquant)\n",
    "library(plotly)\n",
    "library(ggplot2)\n",
    "library(gridExtra)\n",
    "library(readxl)\n",
    "library(zoo)"
   ]
  },
  {
   "cell_type": "markdown",
   "metadata": {},
   "source": [
    "## Global Lithium Production"
   ]
  },
  {
   "cell_type": "code",
   "execution_count": 2,
   "metadata": {
    "vscode": {
     "languageId": "r"
    }
   },
   "outputs": [
    {
     "data": {
      "text/html": [
       "<table class=\"dataframe\">\n",
       "<caption>A data.frame: 10 × 4</caption>\n",
       "<thead>\n",
       "\t<tr><th></th><th scope=col>Entity</th><th scope=col>Code</th><th scope=col>Year</th><th scope=col>Lithium.production...kt</th></tr>\n",
       "\t<tr><th></th><th scope=col>&lt;chr&gt;</th><th scope=col>&lt;chr&gt;</th><th scope=col>&lt;int&gt;</th><th scope=col>&lt;dbl&gt;</th></tr>\n",
       "</thead>\n",
       "<tbody>\n",
       "\t<tr><th scope=row>1</th><td>Argentina</td><td>ARG</td><td>1995</td><td>   8</td></tr>\n",
       "\t<tr><th scope=row>2</th><td>Argentina</td><td>ARG</td><td>1996</td><td>   8</td></tr>\n",
       "\t<tr><th scope=row>3</th><td>Argentina</td><td>ARG</td><td>1997</td><td>   8</td></tr>\n",
       "\t<tr><th scope=row>4</th><td>Argentina</td><td>ARG</td><td>1998</td><td>1130</td></tr>\n",
       "\t<tr><th scope=row>5</th><td>Argentina</td><td>ARG</td><td>1999</td><td> 200</td></tr>\n",
       "\t<tr><th scope=row>6</th><td>Argentina</td><td>ARG</td><td>2000</td><td> 200</td></tr>\n",
       "\t<tr><th scope=row>7</th><td>Argentina</td><td>ARG</td><td>2001</td><td> 200</td></tr>\n",
       "\t<tr><th scope=row>8</th><td>Argentina</td><td>ARG</td><td>2002</td><td> 946</td></tr>\n",
       "\t<tr><th scope=row>9</th><td>Argentina</td><td>ARG</td><td>2003</td><td> 960</td></tr>\n",
       "\t<tr><th scope=row>10</th><td>Argentina</td><td>ARG</td><td>2004</td><td>1970</td></tr>\n",
       "</tbody>\n",
       "</table>\n"
      ],
      "text/latex": [
       "A data.frame: 10 × 4\n",
       "\\begin{tabular}{r|llll}\n",
       "  & Entity & Code & Year & Lithium.production...kt\\\\\n",
       "  & <chr> & <chr> & <int> & <dbl>\\\\\n",
       "\\hline\n",
       "\t1 & Argentina & ARG & 1995 &    8\\\\\n",
       "\t2 & Argentina & ARG & 1996 &    8\\\\\n",
       "\t3 & Argentina & ARG & 1997 &    8\\\\\n",
       "\t4 & Argentina & ARG & 1998 & 1130\\\\\n",
       "\t5 & Argentina & ARG & 1999 &  200\\\\\n",
       "\t6 & Argentina & ARG & 2000 &  200\\\\\n",
       "\t7 & Argentina & ARG & 2001 &  200\\\\\n",
       "\t8 & Argentina & ARG & 2002 &  946\\\\\n",
       "\t9 & Argentina & ARG & 2003 &  960\\\\\n",
       "\t10 & Argentina & ARG & 2004 & 1970\\\\\n",
       "\\end{tabular}\n"
      ],
      "text/markdown": [
       "\n",
       "A data.frame: 10 × 4\n",
       "\n",
       "| <!--/--> | Entity &lt;chr&gt; | Code &lt;chr&gt; | Year &lt;int&gt; | Lithium.production...kt &lt;dbl&gt; |\n",
       "|---|---|---|---|---|\n",
       "| 1 | Argentina | ARG | 1995 |    8 |\n",
       "| 2 | Argentina | ARG | 1996 |    8 |\n",
       "| 3 | Argentina | ARG | 1997 |    8 |\n",
       "| 4 | Argentina | ARG | 1998 | 1130 |\n",
       "| 5 | Argentina | ARG | 1999 |  200 |\n",
       "| 6 | Argentina | ARG | 2000 |  200 |\n",
       "| 7 | Argentina | ARG | 2001 |  200 |\n",
       "| 8 | Argentina | ARG | 2002 |  946 |\n",
       "| 9 | Argentina | ARG | 2003 |  960 |\n",
       "| 10 | Argentina | ARG | 2004 | 1970 |\n",
       "\n"
      ],
      "text/plain": [
       "   Entity    Code Year Lithium.production...kt\n",
       "1  Argentina ARG  1995    8                   \n",
       "2  Argentina ARG  1996    8                   \n",
       "3  Argentina ARG  1997    8                   \n",
       "4  Argentina ARG  1998 1130                   \n",
       "5  Argentina ARG  1999  200                   \n",
       "6  Argentina ARG  2000  200                   \n",
       "7  Argentina ARG  2001  200                   \n",
       "8  Argentina ARG  2002  946                   \n",
       "9  Argentina ARG  2003  960                   \n",
       "10 Argentina ARG  2004 1970                   "
      ]
     },
     "metadata": {},
     "output_type": "display_data"
    }
   ],
   "source": [
    "df_production <- read.csv(\"../../data/00-raw-data/lithium-production.csv\")\n",
    "\n",
    "df_production <- df_production %>% filter(nchar(Code) == 3)\n",
    "\n",
    "head(df_production, n = 10)\n",
    "\n",
    "#summary(df_production)"
   ]
  },
  {
   "cell_type": "markdown",
   "metadata": {},
   "source": [
    "## Chinese Yuan Renminbi to U.S. Dollar Spot Exchange Rate"
   ]
  },
  {
   "cell_type": "code",
   "execution_count": 3,
   "metadata": {
    "vscode": {
     "languageId": "r"
    }
   },
   "outputs": [
    {
     "data": {
      "text/html": [
       "'DEXCHUS'"
      ],
      "text/latex": [
       "'DEXCHUS'"
      ],
      "text/markdown": [
       "'DEXCHUS'"
      ],
      "text/plain": [
       "[1] \"DEXCHUS\""
      ]
     },
     "metadata": {},
     "output_type": "display_data"
    },
    {
     "data": {
      "text/html": [
       "<table class=\"dataframe\">\n",
       "<caption>A data.frame: 6 × 2</caption>\n",
       "<thead>\n",
       "\t<tr><th></th><th scope=col>DATE</th><th scope=col>DEXCHUS</th></tr>\n",
       "\t<tr><th></th><th scope=col>&lt;date&gt;</th><th scope=col>&lt;dbl&gt;</th></tr>\n",
       "</thead>\n",
       "<tbody>\n",
       "\t<tr><th scope=row>1</th><td>2010-01-01</td><td>    NA</td></tr>\n",
       "\t<tr><th scope=row>2</th><td>2010-01-04</td><td>6.8273</td></tr>\n",
       "\t<tr><th scope=row>3</th><td>2010-01-05</td><td>6.8258</td></tr>\n",
       "\t<tr><th scope=row>4</th><td>2010-01-06</td><td>6.8272</td></tr>\n",
       "\t<tr><th scope=row>5</th><td>2010-01-07</td><td>6.8280</td></tr>\n",
       "\t<tr><th scope=row>6</th><td>2010-01-08</td><td>6.8274</td></tr>\n",
       "</tbody>\n",
       "</table>\n"
      ],
      "text/latex": [
       "A data.frame: 6 × 2\n",
       "\\begin{tabular}{r|ll}\n",
       "  & DATE & DEXCHUS\\\\\n",
       "  & <date> & <dbl>\\\\\n",
       "\\hline\n",
       "\t1 & 2010-01-01 &     NA\\\\\n",
       "\t2 & 2010-01-04 & 6.8273\\\\\n",
       "\t3 & 2010-01-05 & 6.8258\\\\\n",
       "\t4 & 2010-01-06 & 6.8272\\\\\n",
       "\t5 & 2010-01-07 & 6.8280\\\\\n",
       "\t6 & 2010-01-08 & 6.8274\\\\\n",
       "\\end{tabular}\n"
      ],
      "text/markdown": [
       "\n",
       "A data.frame: 6 × 2\n",
       "\n",
       "| <!--/--> | DATE &lt;date&gt; | DEXCHUS &lt;dbl&gt; |\n",
       "|---|---|---|\n",
       "| 1 | 2010-01-01 |     NA |\n",
       "| 2 | 2010-01-04 | 6.8273 |\n",
       "| 3 | 2010-01-05 | 6.8258 |\n",
       "| 4 | 2010-01-06 | 6.8272 |\n",
       "| 5 | 2010-01-07 | 6.8280 |\n",
       "| 6 | 2010-01-08 | 6.8274 |\n",
       "\n"
      ],
      "text/plain": [
       "  DATE       DEXCHUS\n",
       "1 2010-01-01     NA \n",
       "2 2010-01-04 6.8273 \n",
       "3 2010-01-05 6.8258 \n",
       "4 2010-01-06 6.8272 \n",
       "5 2010-01-07 6.8280 \n",
       "6 2010-01-08 6.8274 "
      ]
     },
     "metadata": {},
     "output_type": "display_data"
    },
    {
     "data": {
      "text/plain": [
       "      DATE               DEXCHUS     \n",
       " Min.   :2010-01-01   Min.   :6.040  \n",
       " 1st Qu.:2013-04-02   1st Qu.:6.309  \n",
       " Median :2016-07-01   Median :6.504  \n",
       " Mean   :2016-07-01   Mean   :6.548  \n",
       " 3rd Qu.:2019-10-01   3rd Qu.:6.805  \n",
       " Max.   :2022-12-30   Max.   :7.305  \n",
       "                      NA's   :140    "
      ]
     },
     "metadata": {},
     "output_type": "display_data"
    }
   ],
   "source": [
    "#| echo: true\n",
    "#| message: false\n",
    "#| code-fold: true\n",
    "#| code-summary: \"Libraries\"\n",
    "#| warning: false\n",
    "\n",
    "# Set the start and end dates\n",
    "start_date <- \"2010-01-01\"\n",
    "end_date <- \"2022-12-31\"\n",
    "\n",
    "# Define the symbol for CNY to USD exchange rate\n",
    "symbol <- \"DEXCHUS\"\n",
    "\n",
    "# Use getSymbols() to fetch the data\n",
    "getSymbols(symbol, from = start_date, to = end_date, src = \"FRED\")\n",
    "\n",
    "# Access the data as a data frame\n",
    "df_exchange_rate <- as.data.frame(DEXCHUS)\n",
    "\n",
    "df_exchange_rate <- rownames_to_column(df_exchange_rate, var = \"DATE\")\n",
    "\n",
    "df_exchange_rate$DATE <- as.Date(df_exchange_rate$DATE)\n",
    "\n",
    "# Print the first few rows of the data\n",
    "head(df_exchange_rate)\n",
    "\n",
    "summary(df_exchange_rate)"
   ]
  },
  {
   "cell_type": "markdown",
   "metadata": {},
   "source": [
    "## Commodity Price"
   ]
  },
  {
   "cell_type": "markdown",
   "metadata": {},
   "source": [
    "### Uranium"
   ]
  },
  {
   "cell_type": "code",
   "execution_count": null,
   "metadata": {
    "vscode": {
     "languageId": "r"
    }
   },
   "outputs": [],
   "source": [
    "#| echo: true\n",
    "#| message: false\n",
    "#| code-fold: true\n",
    "#| code-summary: \"Data Cleaning Code\"\n",
    "#| results: 'hide'\n",
    "#| warning: false\n",
    "\n",
    "df_commodity_price <- read_excel(\"../../data/00-raw-data/commodity_price.xlsx\")\n",
    "\n",
    "df_commodity_price <- df_commodity_price %>%\n",
    "  pivot_longer(cols = -c('...1'), \n",
    "               names_to = \"Month_Year\",\n",
    "               values_to = \"Price\")\n",
    "\n",
    "df_commodity_price <- df_commodity_price %>% filter(!is.na(Price) & Price != \"\")\n",
    "\n",
    "df_commodity_price$Month_Year <- as.yearmon(df_commodity_price$Month_Year, format = \"%b %Y\")\n",
    "\n",
    "df_commodity_price$Month_Year <- format(df_commodity_price$Month_Year, \"%m-%Y\")\n",
    "\n",
    "df_commodity_price$Month_Year <- paste(\"01-\", df_commodity_price$Month_Year, sep = \"\")\n",
    "\n",
    "df_commodity_price$Month_Year <- as.Date(df_commodity_price$Month_Year, format = \"%d-%m-%Y\")\n",
    "\n",
    "names(df_commodity_price) <- c('Commodity', 'DATE', 'Price')\n",
    "\n",
    "df_uranium_price <- df_commodity_price %>%\n",
    "  filter(Commodity == \"Uranium\")\n",
    "\n",
    "#df_uranium_price <- head(df_uranium_price, n = 10)\n"
   ]
  },
  {
   "cell_type": "code",
   "execution_count": 11,
   "metadata": {
    "vscode": {
     "languageId": "r"
    }
   },
   "outputs": [
    {
     "data": {
      "text/html": [
       "<table class=\"dataframe\">\n",
       "<caption>A tibble: 20 × 3</caption>\n",
       "<thead>\n",
       "\t<tr><th scope=col>Commodity</th><th scope=col>DATE</th><th scope=col>Price</th></tr>\n",
       "\t<tr><th scope=col>&lt;chr&gt;</th><th scope=col>&lt;date&gt;</th><th scope=col>&lt;dbl&gt;</th></tr>\n",
       "</thead>\n",
       "<tbody>\n",
       "\t<tr><td>Uranium</td><td>2012-01-01</td><td>52.31250</td></tr>\n",
       "\t<tr><td>Uranium</td><td>2012-02-01</td><td>52.05556</td></tr>\n",
       "\t<tr><td>Uranium</td><td>2012-03-01</td><td>51.28889</td></tr>\n",
       "\t<tr><td>Uranium</td><td>2012-04-01</td><td>51.30000</td></tr>\n",
       "\t<tr><td>Uranium</td><td>2012-05-01</td><td>51.88889</td></tr>\n",
       "\t<tr><td>Uranium</td><td>2012-06-01</td><td>50.83333</td></tr>\n",
       "\t<tr><td>Uranium</td><td>2012-07-01</td><td>50.35556</td></tr>\n",
       "\t<tr><td>Uranium</td><td>2012-08-01</td><td>49.25000</td></tr>\n",
       "\t<tr><td>Uranium</td><td>2012-09-01</td><td>47.72500</td></tr>\n",
       "\t<tr><td>Uranium</td><td>2012-10-01</td><td>44.61111</td></tr>\n",
       "\t<tr><td>Uranium</td><td>2012-11-01</td><td>41.50000</td></tr>\n",
       "\t<tr><td>Uranium</td><td>2012-12-01</td><td>43.66667</td></tr>\n",
       "\t<tr><td>Uranium</td><td>2013-01-01</td><td>42.75000</td></tr>\n",
       "\t<tr><td>Uranium</td><td>2013-02-01</td><td>43.40625</td></tr>\n",
       "\t<tr><td>Uranium</td><td>2013-03-01</td><td>42.28125</td></tr>\n",
       "\t<tr><td>Uranium</td><td>2013-04-01</td><td>41.41250</td></tr>\n",
       "\t<tr><td>Uranium</td><td>2013-05-01</td><td>40.60500</td></tr>\n",
       "\t<tr><td>Uranium</td><td>2013-06-01</td><td>39.93750</td></tr>\n",
       "\t<tr><td>Uranium</td><td>2013-07-01</td><td>38.02222</td></tr>\n",
       "\t<tr><td>Uranium</td><td>2013-08-01</td><td>34.99416</td></tr>\n",
       "</tbody>\n",
       "</table>\n"
      ],
      "text/latex": [
       "A tibble: 20 × 3\n",
       "\\begin{tabular}{lll}\n",
       " Commodity & DATE & Price\\\\\n",
       " <chr> & <date> & <dbl>\\\\\n",
       "\\hline\n",
       "\t Uranium & 2012-01-01 & 52.31250\\\\\n",
       "\t Uranium & 2012-02-01 & 52.05556\\\\\n",
       "\t Uranium & 2012-03-01 & 51.28889\\\\\n",
       "\t Uranium & 2012-04-01 & 51.30000\\\\\n",
       "\t Uranium & 2012-05-01 & 51.88889\\\\\n",
       "\t Uranium & 2012-06-01 & 50.83333\\\\\n",
       "\t Uranium & 2012-07-01 & 50.35556\\\\\n",
       "\t Uranium & 2012-08-01 & 49.25000\\\\\n",
       "\t Uranium & 2012-09-01 & 47.72500\\\\\n",
       "\t Uranium & 2012-10-01 & 44.61111\\\\\n",
       "\t Uranium & 2012-11-01 & 41.50000\\\\\n",
       "\t Uranium & 2012-12-01 & 43.66667\\\\\n",
       "\t Uranium & 2013-01-01 & 42.75000\\\\\n",
       "\t Uranium & 2013-02-01 & 43.40625\\\\\n",
       "\t Uranium & 2013-03-01 & 42.28125\\\\\n",
       "\t Uranium & 2013-04-01 & 41.41250\\\\\n",
       "\t Uranium & 2013-05-01 & 40.60500\\\\\n",
       "\t Uranium & 2013-06-01 & 39.93750\\\\\n",
       "\t Uranium & 2013-07-01 & 38.02222\\\\\n",
       "\t Uranium & 2013-08-01 & 34.99416\\\\\n",
       "\\end{tabular}\n"
      ],
      "text/markdown": [
       "\n",
       "A tibble: 20 × 3\n",
       "\n",
       "| Commodity &lt;chr&gt; | DATE &lt;date&gt; | Price &lt;dbl&gt; |\n",
       "|---|---|---|\n",
       "| Uranium | 2012-01-01 | 52.31250 |\n",
       "| Uranium | 2012-02-01 | 52.05556 |\n",
       "| Uranium | 2012-03-01 | 51.28889 |\n",
       "| Uranium | 2012-04-01 | 51.30000 |\n",
       "| Uranium | 2012-05-01 | 51.88889 |\n",
       "| Uranium | 2012-06-01 | 50.83333 |\n",
       "| Uranium | 2012-07-01 | 50.35556 |\n",
       "| Uranium | 2012-08-01 | 49.25000 |\n",
       "| Uranium | 2012-09-01 | 47.72500 |\n",
       "| Uranium | 2012-10-01 | 44.61111 |\n",
       "| Uranium | 2012-11-01 | 41.50000 |\n",
       "| Uranium | 2012-12-01 | 43.66667 |\n",
       "| Uranium | 2013-01-01 | 42.75000 |\n",
       "| Uranium | 2013-02-01 | 43.40625 |\n",
       "| Uranium | 2013-03-01 | 42.28125 |\n",
       "| Uranium | 2013-04-01 | 41.41250 |\n",
       "| Uranium | 2013-05-01 | 40.60500 |\n",
       "| Uranium | 2013-06-01 | 39.93750 |\n",
       "| Uranium | 2013-07-01 | 38.02222 |\n",
       "| Uranium | 2013-08-01 | 34.99416 |\n",
       "\n"
      ],
      "text/plain": [
       "   Commodity DATE       Price   \n",
       "1  Uranium   2012-01-01 52.31250\n",
       "2  Uranium   2012-02-01 52.05556\n",
       "3  Uranium   2012-03-01 51.28889\n",
       "4  Uranium   2012-04-01 51.30000\n",
       "5  Uranium   2012-05-01 51.88889\n",
       "6  Uranium   2012-06-01 50.83333\n",
       "7  Uranium   2012-07-01 50.35556\n",
       "8  Uranium   2012-08-01 49.25000\n",
       "9  Uranium   2012-09-01 47.72500\n",
       "10 Uranium   2012-10-01 44.61111\n",
       "11 Uranium   2012-11-01 41.50000\n",
       "12 Uranium   2012-12-01 43.66667\n",
       "13 Uranium   2013-01-01 42.75000\n",
       "14 Uranium   2013-02-01 43.40625\n",
       "15 Uranium   2013-03-01 42.28125\n",
       "16 Uranium   2013-04-01 41.41250\n",
       "17 Uranium   2013-05-01 40.60500\n",
       "18 Uranium   2013-06-01 39.93750\n",
       "19 Uranium   2013-07-01 38.02222\n",
       "20 Uranium   2013-08-01 34.99416"
      ]
     },
     "metadata": {},
     "output_type": "display_data"
    }
   ],
   "source": [
    "head(df_uranium_price,20)"
   ]
  },
  {
   "cell_type": "markdown",
   "metadata": {},
   "source": [
    "### Natural Gas"
   ]
  },
  {
   "cell_type": "code",
   "execution_count": 7,
   "metadata": {
    "vscode": {
     "languageId": "r"
    }
   },
   "outputs": [
    {
     "data": {
      "text/html": [
       "'GASREGCOVW'"
      ],
      "text/latex": [
       "'GASREGCOVW'"
      ],
      "text/markdown": [
       "'GASREGCOVW'"
      ],
      "text/plain": [
       "[1] \"GASREGCOVW\""
      ]
     },
     "metadata": {},
     "output_type": "display_data"
    },
    {
     "data": {
      "text/html": [
       "<table class=\"dataframe\">\n",
       "<caption>A data.frame: 10 × 2</caption>\n",
       "<thead>\n",
       "\t<tr><th></th><th scope=col>DATE</th><th scope=col>GASREGCOVW</th></tr>\n",
       "\t<tr><th></th><th scope=col>&lt;date&gt;</th><th scope=col>&lt;dbl&gt;</th></tr>\n",
       "</thead>\n",
       "<tbody>\n",
       "\t<tr><th scope=row>1</th><td>2012-01-02</td><td>3.254</td></tr>\n",
       "\t<tr><th scope=row>2</th><td>2012-01-09</td><td>3.333</td></tr>\n",
       "\t<tr><th scope=row>3</th><td>2012-01-16</td><td>3.342</td></tr>\n",
       "\t<tr><th scope=row>4</th><td>2012-01-23</td><td>3.333</td></tr>\n",
       "\t<tr><th scope=row>5</th><td>2012-01-30</td><td>3.386</td></tr>\n",
       "\t<tr><th scope=row>6</th><td>2012-02-06</td><td>3.436</td></tr>\n",
       "\t<tr><th scope=row>7</th><td>2012-02-13</td><td>3.466</td></tr>\n",
       "\t<tr><th scope=row>8</th><td>2012-02-20</td><td>3.523</td></tr>\n",
       "\t<tr><th scope=row>9</th><td>2012-02-27</td><td>3.641</td></tr>\n",
       "\t<tr><th scope=row>10</th><td>2012-03-05</td><td>3.717</td></tr>\n",
       "</tbody>\n",
       "</table>\n"
      ],
      "text/latex": [
       "A data.frame: 10 × 2\n",
       "\\begin{tabular}{r|ll}\n",
       "  & DATE & GASREGCOVW\\\\\n",
       "  & <date> & <dbl>\\\\\n",
       "\\hline\n",
       "\t1 & 2012-01-02 & 3.254\\\\\n",
       "\t2 & 2012-01-09 & 3.333\\\\\n",
       "\t3 & 2012-01-16 & 3.342\\\\\n",
       "\t4 & 2012-01-23 & 3.333\\\\\n",
       "\t5 & 2012-01-30 & 3.386\\\\\n",
       "\t6 & 2012-02-06 & 3.436\\\\\n",
       "\t7 & 2012-02-13 & 3.466\\\\\n",
       "\t8 & 2012-02-20 & 3.523\\\\\n",
       "\t9 & 2012-02-27 & 3.641\\\\\n",
       "\t10 & 2012-03-05 & 3.717\\\\\n",
       "\\end{tabular}\n"
      ],
      "text/markdown": [
       "\n",
       "A data.frame: 10 × 2\n",
       "\n",
       "| <!--/--> | DATE &lt;date&gt; | GASREGCOVW &lt;dbl&gt; |\n",
       "|---|---|---|\n",
       "| 1 | 2012-01-02 | 3.254 |\n",
       "| 2 | 2012-01-09 | 3.333 |\n",
       "| 3 | 2012-01-16 | 3.342 |\n",
       "| 4 | 2012-01-23 | 3.333 |\n",
       "| 5 | 2012-01-30 | 3.386 |\n",
       "| 6 | 2012-02-06 | 3.436 |\n",
       "| 7 | 2012-02-13 | 3.466 |\n",
       "| 8 | 2012-02-20 | 3.523 |\n",
       "| 9 | 2012-02-27 | 3.641 |\n",
       "| 10 | 2012-03-05 | 3.717 |\n",
       "\n"
      ],
      "text/plain": [
       "   DATE       GASREGCOVW\n",
       "1  2012-01-02 3.254     \n",
       "2  2012-01-09 3.333     \n",
       "3  2012-01-16 3.342     \n",
       "4  2012-01-23 3.333     \n",
       "5  2012-01-30 3.386     \n",
       "6  2012-02-06 3.436     \n",
       "7  2012-02-13 3.466     \n",
       "8  2012-02-20 3.523     \n",
       "9  2012-02-27 3.641     \n",
       "10 2012-03-05 3.717     "
      ]
     },
     "metadata": {},
     "output_type": "display_data"
    }
   ],
   "source": [
    "# Set the start and end dates\n",
    "start_date <- \"2012-01-01\"\n",
    "end_date <- \"2022-12-31\"\n",
    "\n",
    "# Define the symbol for Gas Price to USD exchange rate\n",
    "symbol <- \"GASREGCOVW\"\n",
    "\n",
    "# Use getSymbols() to fetch the data\n",
    "getSymbols(symbol, from = start_date, to = end_date, src = \"FRED\")\n",
    "\n",
    "# Access the data as a data frame\n",
    "df_gas_price <- as.data.frame(GASREGCOVW)\n",
    "\n",
    "df_gas_price <- rownames_to_column(df_gas_price, var = \"DATE\")\n",
    "\n",
    "df_gas_price$DATE <- as.Date(df_gas_price$DATE)\n",
    "\n",
    "# Print the first few rows of the data\n",
    "head(df_gas_price, 10)"
   ]
  },
  {
   "cell_type": "code",
   "execution_count": 8,
   "metadata": {
    "vscode": {
     "languageId": "r"
    }
   },
   "outputs": [
    {
     "data": {
      "text/html": [
       "<table class=\"dataframe\">\n",
       "<caption>A tibble: 10 × 2</caption>\n",
       "<thead>\n",
       "\t<tr><th scope=col>GASREGCOVW</th><th scope=col>DATE</th></tr>\n",
       "\t<tr><th scope=col>&lt;dbl&gt;</th><th scope=col>&lt;date&gt;</th></tr>\n",
       "</thead>\n",
       "<tbody>\n",
       "\t<tr><td>3.254</td><td>2012-01-01</td></tr>\n",
       "\t<tr><td>3.436</td><td>2012-02-01</td></tr>\n",
       "\t<tr><td>3.717</td><td>2012-03-01</td></tr>\n",
       "\t<tr><td>3.874</td><td>2012-04-01</td></tr>\n",
       "\t<tr><td>3.718</td><td>2012-05-01</td></tr>\n",
       "\t<tr><td>3.518</td><td>2012-06-01</td></tr>\n",
       "\t<tr><td>3.291</td><td>2012-07-01</td></tr>\n",
       "\t<tr><td>3.606</td><td>2012-08-01</td></tr>\n",
       "\t<tr><td>3.797</td><td>2012-09-01</td></tr>\n",
       "\t<tr><td>3.750</td><td>2012-10-01</td></tr>\n",
       "</tbody>\n",
       "</table>\n"
      ],
      "text/latex": [
       "A tibble: 10 × 2\n",
       "\\begin{tabular}{ll}\n",
       " GASREGCOVW & DATE\\\\\n",
       " <dbl> & <date>\\\\\n",
       "\\hline\n",
       "\t 3.254 & 2012-01-01\\\\\n",
       "\t 3.436 & 2012-02-01\\\\\n",
       "\t 3.717 & 2012-03-01\\\\\n",
       "\t 3.874 & 2012-04-01\\\\\n",
       "\t 3.718 & 2012-05-01\\\\\n",
       "\t 3.518 & 2012-06-01\\\\\n",
       "\t 3.291 & 2012-07-01\\\\\n",
       "\t 3.606 & 2012-08-01\\\\\n",
       "\t 3.797 & 2012-09-01\\\\\n",
       "\t 3.750 & 2012-10-01\\\\\n",
       "\\end{tabular}\n"
      ],
      "text/markdown": [
       "\n",
       "A tibble: 10 × 2\n",
       "\n",
       "| GASREGCOVW &lt;dbl&gt; | DATE &lt;date&gt; |\n",
       "|---|---|\n",
       "| 3.254 | 2012-01-01 |\n",
       "| 3.436 | 2012-02-01 |\n",
       "| 3.717 | 2012-03-01 |\n",
       "| 3.874 | 2012-04-01 |\n",
       "| 3.718 | 2012-05-01 |\n",
       "| 3.518 | 2012-06-01 |\n",
       "| 3.291 | 2012-07-01 |\n",
       "| 3.606 | 2012-08-01 |\n",
       "| 3.797 | 2012-09-01 |\n",
       "| 3.750 | 2012-10-01 |\n",
       "\n"
      ],
      "text/plain": [
       "   GASREGCOVW DATE      \n",
       "1  3.254      2012-01-01\n",
       "2  3.436      2012-02-01\n",
       "3  3.717      2012-03-01\n",
       "4  3.874      2012-04-01\n",
       "5  3.718      2012-05-01\n",
       "6  3.518      2012-06-01\n",
       "7  3.291      2012-07-01\n",
       "8  3.606      2012-08-01\n",
       "9  3.797      2012-09-01\n",
       "10 3.750      2012-10-01"
      ]
     },
     "metadata": {},
     "output_type": "display_data"
    }
   ],
   "source": [
    "df_gas_price <- df_gas_price %>%\n",
    "    mutate(Year = year(DATE)) %>%\n",
    "    mutate(Month = month(DATE)) %>%\n",
    "    mutate(Day = day(DATE))\n",
    "\n",
    "df_gas_price <- df_gas_price %>%\n",
    "    group_by(Year, Month) %>%\n",
    "    filter(Day == min(Day)) %>%\n",
    "    ungroup()\n",
    "\n",
    "df_gas_price <- df_gas_price %>%\n",
    "    select(GASREGCOVW, Year, Month, Day)\n",
    "\n",
    "df_gas_price <- df_gas_price %>%\n",
    "    mutate(DATE = paste(Year, Month, '01', sep = \"-\"))\n",
    "\n",
    "df_gas_price$DATE <- as.Date(df_gas_price$DATE)\n",
    "\n",
    "df_gas_price <- df_gas_price %>%\n",
    "    select(GASREGCOVW, DATE)\n",
    "\n",
    "head(df_gas_price, 10)"
   ]
  },
  {
   "cell_type": "markdown",
   "metadata": {},
   "source": [
    "### Resources Prices"
   ]
  },
  {
   "cell_type": "code",
   "execution_count": 9,
   "metadata": {
    "vscode": {
     "languageId": "r"
    }
   },
   "outputs": [
    {
     "data": {
      "text/html": [
       "<table class=\"dataframe\">\n",
       "<caption>A data.frame: 132 × 3</caption>\n",
       "<thead>\n",
       "\t<tr><th></th><th scope=col>DATE</th><th scope=col>Uranium</th><th scope=col>Natural Gas</th></tr>\n",
       "\t<tr><th></th><th scope=col>&lt;date&gt;</th><th scope=col>&lt;dbl&gt;</th><th scope=col>&lt;dbl&gt;</th></tr>\n",
       "</thead>\n",
       "<tbody>\n",
       "\t<tr><th scope=row>1</th><td>2012-01-01</td><td>52.31250</td><td>3.254</td></tr>\n",
       "\t<tr><th scope=row>2</th><td>2012-02-01</td><td>52.05556</td><td>3.436</td></tr>\n",
       "\t<tr><th scope=row>3</th><td>2012-03-01</td><td>51.28889</td><td>3.717</td></tr>\n",
       "\t<tr><th scope=row>4</th><td>2012-04-01</td><td>51.30000</td><td>3.874</td></tr>\n",
       "\t<tr><th scope=row>5</th><td>2012-05-01</td><td>51.88889</td><td>3.718</td></tr>\n",
       "\t<tr><th scope=row>6</th><td>2012-06-01</td><td>50.83333</td><td>3.518</td></tr>\n",
       "\t<tr><th scope=row>7</th><td>2012-07-01</td><td>50.35556</td><td>3.291</td></tr>\n",
       "\t<tr><th scope=row>8</th><td>2012-08-01</td><td>49.25000</td><td>3.606</td></tr>\n",
       "\t<tr><th scope=row>9</th><td>2012-09-01</td><td>47.72500</td><td>3.797</td></tr>\n",
       "\t<tr><th scope=row>10</th><td>2012-10-01</td><td>44.61111</td><td>3.750</td></tr>\n",
       "\t<tr><th scope=row>11</th><td>2012-11-01</td><td>41.50000</td><td>3.406</td></tr>\n",
       "\t<tr><th scope=row>12</th><td>2012-12-01</td><td>43.66667</td><td>3.337</td></tr>\n",
       "\t<tr><th scope=row>13</th><td>2013-01-01</td><td>42.75000</td><td>3.233</td></tr>\n",
       "\t<tr><th scope=row>14</th><td>2013-02-01</td><td>43.40625</td><td>3.471</td></tr>\n",
       "\t<tr><th scope=row>15</th><td>2013-03-01</td><td>42.28125</td><td>3.698</td></tr>\n",
       "\t<tr><th scope=row>16</th><td>2013-04-01</td><td>41.41250</td><td>3.572</td></tr>\n",
       "\t<tr><th scope=row>17</th><td>2013-05-01</td><td>40.60500</td><td>3.478</td></tr>\n",
       "\t<tr><th scope=row>18</th><td>2013-06-01</td><td>39.93750</td><td>3.610</td></tr>\n",
       "\t<tr><th scope=row>19</th><td>2013-07-01</td><td>38.02222</td><td>3.410</td></tr>\n",
       "\t<tr><th scope=row>20</th><td>2013-08-01</td><td>34.99416</td><td>3.566</td></tr>\n",
       "\t<tr><th scope=row>21</th><td>2013-09-01</td><td>34.45329</td><td>3.575</td></tr>\n",
       "\t<tr><th scope=row>22</th><td>2013-10-01</td><td>34.84850</td><td>3.298</td></tr>\n",
       "\t<tr><th scope=row>23</th><td>2013-11-01</td><td>35.59200</td><td>3.209</td></tr>\n",
       "\t<tr><th scope=row>24</th><td>2013-12-01</td><td>34.59330</td><td>3.209</td></tr>\n",
       "\t<tr><th scope=row>25</th><td>2014-01-01</td><td>35.21499</td><td>3.261</td></tr>\n",
       "\t<tr><th scope=row>26</th><td>2014-02-01</td><td>35.54674</td><td>3.243</td></tr>\n",
       "\t<tr><th scope=row>27</th><td>2014-03-01</td><td>34.70286</td><td>3.421</td></tr>\n",
       "\t<tr><th scope=row>28</th><td>2014-04-01</td><td>32.74457</td><td>3.533</td></tr>\n",
       "\t<tr><th scope=row>29</th><td>2014-05-01</td><td>28.53986</td><td>3.606</td></tr>\n",
       "\t<tr><th scope=row>30</th><td>2014-06-01</td><td>28.22546</td><td>3.624</td></tr>\n",
       "\t<tr><th scope=row>...</th><td>...</td><td>...</td><td>...</td></tr>\n",
       "\t<tr><th scope=row>103</th><td>2020-07-01</td><td>32.36087</td><td>2.100</td></tr>\n",
       "\t<tr><th scope=row>104</th><td>2020-08-01</td><td>31.37619</td><td>2.085</td></tr>\n",
       "\t<tr><th scope=row>105</th><td>2020-09-01</td><td>29.98182</td><td>2.122</td></tr>\n",
       "\t<tr><th scope=row>106</th><td>2020-10-01</td><td>29.63636</td><td>2.091</td></tr>\n",
       "\t<tr><th scope=row>107</th><td>2020-11-01</td><td>29.48571</td><td>2.021</td></tr>\n",
       "\t<tr><th scope=row>108</th><td>2020-12-01</td><td>29.77391</td><td>2.063</td></tr>\n",
       "\t<tr><th scope=row>109</th><td>2021-01-01</td><td>29.85714</td><td>2.160</td></tr>\n",
       "\t<tr><th scope=row>110</th><td>2021-02-01</td><td>28.66250</td><td>2.316</td></tr>\n",
       "\t<tr><th scope=row>111</th><td>2021-03-01</td><td>28.33478</td><td>2.625</td></tr>\n",
       "\t<tr><th scope=row>112</th><td>2021-04-01</td><td>29.75227</td><td>2.777</td></tr>\n",
       "\t<tr><th scope=row>113</th><td>2021-05-01</td><td>30.25714</td><td>2.790</td></tr>\n",
       "\t<tr><th scope=row>114</th><td>2021-06-01</td><td>32.14211</td><td>2.935</td></tr>\n",
       "\t<tr><th scope=row>115</th><td>2021-07-01</td><td>32.33864</td><td>3.032</td></tr>\n",
       "\t<tr><th scope=row>116</th><td>2021-08-01</td><td>32.14773</td><td>3.059</td></tr>\n",
       "\t<tr><th scope=row>117</th><td>2021-09-01</td><td>45.07812</td><td>3.080</td></tr>\n",
       "\t<tr><th scope=row>118</th><td>2021-10-01</td><td>38.47619</td><td>3.093</td></tr>\n",
       "\t<tr><th scope=row>119</th><td>2021-11-01</td><td>31.09958</td><td>3.280</td></tr>\n",
       "\t<tr><th scope=row>120</th><td>2021-12-01</td><td>36.12930</td><td>3.204</td></tr>\n",
       "\t<tr><th scope=row>121</th><td>2022-01-01</td><td>36.87292</td><td>3.141</td></tr>\n",
       "\t<tr><th scope=row>122</th><td>2022-02-01</td><td>35.83191</td><td>3.330</td></tr>\n",
       "\t<tr><th scope=row>123</th><td>2022-03-01</td><td>45.51470</td><td>3.963</td></tr>\n",
       "\t<tr><th scope=row>124</th><td>2022-04-01</td><td>48.70473</td><td>4.021</td></tr>\n",
       "\t<tr><th scope=row>125</th><td>2022-05-01</td><td>40.89163</td><td>4.031</td></tr>\n",
       "\t<tr><th scope=row>126</th><td>2022-06-01</td><td>40.33152</td><td>4.702</td></tr>\n",
       "\t<tr><th scope=row>127</th><td>2022-07-01</td><td>38.93916</td><td>4.619</td></tr>\n",
       "\t<tr><th scope=row>128</th><td>2022-08-01</td><td>39.80231</td><td>4.034</td></tr>\n",
       "\t<tr><th scope=row>129</th><td>2022-09-01</td><td>40.95039</td><td>3.617</td></tr>\n",
       "\t<tr><th scope=row>130</th><td>2022-10-01</td><td>41.30360</td><td>3.592</td></tr>\n",
       "\t<tr><th scope=row>131</th><td>2022-11-01</td><td>40.95406</td><td>3.628</td></tr>\n",
       "\t<tr><th scope=row>132</th><td>2022-12-01</td><td>39.17824</td><td>3.260</td></tr>\n",
       "</tbody>\n",
       "</table>\n"
      ],
      "text/latex": [
       "A data.frame: 132 × 3\n",
       "\\begin{tabular}{r|lll}\n",
       "  & DATE & Uranium & Natural Gas\\\\\n",
       "  & <date> & <dbl> & <dbl>\\\\\n",
       "\\hline\n",
       "\t1 & 2012-01-01 & 52.31250 & 3.254\\\\\n",
       "\t2 & 2012-02-01 & 52.05556 & 3.436\\\\\n",
       "\t3 & 2012-03-01 & 51.28889 & 3.717\\\\\n",
       "\t4 & 2012-04-01 & 51.30000 & 3.874\\\\\n",
       "\t5 & 2012-05-01 & 51.88889 & 3.718\\\\\n",
       "\t6 & 2012-06-01 & 50.83333 & 3.518\\\\\n",
       "\t7 & 2012-07-01 & 50.35556 & 3.291\\\\\n",
       "\t8 & 2012-08-01 & 49.25000 & 3.606\\\\\n",
       "\t9 & 2012-09-01 & 47.72500 & 3.797\\\\\n",
       "\t10 & 2012-10-01 & 44.61111 & 3.750\\\\\n",
       "\t11 & 2012-11-01 & 41.50000 & 3.406\\\\\n",
       "\t12 & 2012-12-01 & 43.66667 & 3.337\\\\\n",
       "\t13 & 2013-01-01 & 42.75000 & 3.233\\\\\n",
       "\t14 & 2013-02-01 & 43.40625 & 3.471\\\\\n",
       "\t15 & 2013-03-01 & 42.28125 & 3.698\\\\\n",
       "\t16 & 2013-04-01 & 41.41250 & 3.572\\\\\n",
       "\t17 & 2013-05-01 & 40.60500 & 3.478\\\\\n",
       "\t18 & 2013-06-01 & 39.93750 & 3.610\\\\\n",
       "\t19 & 2013-07-01 & 38.02222 & 3.410\\\\\n",
       "\t20 & 2013-08-01 & 34.99416 & 3.566\\\\\n",
       "\t21 & 2013-09-01 & 34.45329 & 3.575\\\\\n",
       "\t22 & 2013-10-01 & 34.84850 & 3.298\\\\\n",
       "\t23 & 2013-11-01 & 35.59200 & 3.209\\\\\n",
       "\t24 & 2013-12-01 & 34.59330 & 3.209\\\\\n",
       "\t25 & 2014-01-01 & 35.21499 & 3.261\\\\\n",
       "\t26 & 2014-02-01 & 35.54674 & 3.243\\\\\n",
       "\t27 & 2014-03-01 & 34.70286 & 3.421\\\\\n",
       "\t28 & 2014-04-01 & 32.74457 & 3.533\\\\\n",
       "\t29 & 2014-05-01 & 28.53986 & 3.606\\\\\n",
       "\t30 & 2014-06-01 & 28.22546 & 3.624\\\\\n",
       "\t... & ... & ... & ...\\\\\n",
       "\t103 & 2020-07-01 & 32.36087 & 2.100\\\\\n",
       "\t104 & 2020-08-01 & 31.37619 & 2.085\\\\\n",
       "\t105 & 2020-09-01 & 29.98182 & 2.122\\\\\n",
       "\t106 & 2020-10-01 & 29.63636 & 2.091\\\\\n",
       "\t107 & 2020-11-01 & 29.48571 & 2.021\\\\\n",
       "\t108 & 2020-12-01 & 29.77391 & 2.063\\\\\n",
       "\t109 & 2021-01-01 & 29.85714 & 2.160\\\\\n",
       "\t110 & 2021-02-01 & 28.66250 & 2.316\\\\\n",
       "\t111 & 2021-03-01 & 28.33478 & 2.625\\\\\n",
       "\t112 & 2021-04-01 & 29.75227 & 2.777\\\\\n",
       "\t113 & 2021-05-01 & 30.25714 & 2.790\\\\\n",
       "\t114 & 2021-06-01 & 32.14211 & 2.935\\\\\n",
       "\t115 & 2021-07-01 & 32.33864 & 3.032\\\\\n",
       "\t116 & 2021-08-01 & 32.14773 & 3.059\\\\\n",
       "\t117 & 2021-09-01 & 45.07812 & 3.080\\\\\n",
       "\t118 & 2021-10-01 & 38.47619 & 3.093\\\\\n",
       "\t119 & 2021-11-01 & 31.09958 & 3.280\\\\\n",
       "\t120 & 2021-12-01 & 36.12930 & 3.204\\\\\n",
       "\t121 & 2022-01-01 & 36.87292 & 3.141\\\\\n",
       "\t122 & 2022-02-01 & 35.83191 & 3.330\\\\\n",
       "\t123 & 2022-03-01 & 45.51470 & 3.963\\\\\n",
       "\t124 & 2022-04-01 & 48.70473 & 4.021\\\\\n",
       "\t125 & 2022-05-01 & 40.89163 & 4.031\\\\\n",
       "\t126 & 2022-06-01 & 40.33152 & 4.702\\\\\n",
       "\t127 & 2022-07-01 & 38.93916 & 4.619\\\\\n",
       "\t128 & 2022-08-01 & 39.80231 & 4.034\\\\\n",
       "\t129 & 2022-09-01 & 40.95039 & 3.617\\\\\n",
       "\t130 & 2022-10-01 & 41.30360 & 3.592\\\\\n",
       "\t131 & 2022-11-01 & 40.95406 & 3.628\\\\\n",
       "\t132 & 2022-12-01 & 39.17824 & 3.260\\\\\n",
       "\\end{tabular}\n"
      ],
      "text/markdown": [
       "\n",
       "A data.frame: 132 × 3\n",
       "\n",
       "| <!--/--> | DATE &lt;date&gt; | Uranium &lt;dbl&gt; | Natural Gas &lt;dbl&gt; |\n",
       "|---|---|---|---|\n",
       "| 1 | 2012-01-01 | 52.31250 | 3.254 |\n",
       "| 2 | 2012-02-01 | 52.05556 | 3.436 |\n",
       "| 3 | 2012-03-01 | 51.28889 | 3.717 |\n",
       "| 4 | 2012-04-01 | 51.30000 | 3.874 |\n",
       "| 5 | 2012-05-01 | 51.88889 | 3.718 |\n",
       "| 6 | 2012-06-01 | 50.83333 | 3.518 |\n",
       "| 7 | 2012-07-01 | 50.35556 | 3.291 |\n",
       "| 8 | 2012-08-01 | 49.25000 | 3.606 |\n",
       "| 9 | 2012-09-01 | 47.72500 | 3.797 |\n",
       "| 10 | 2012-10-01 | 44.61111 | 3.750 |\n",
       "| 11 | 2012-11-01 | 41.50000 | 3.406 |\n",
       "| 12 | 2012-12-01 | 43.66667 | 3.337 |\n",
       "| 13 | 2013-01-01 | 42.75000 | 3.233 |\n",
       "| 14 | 2013-02-01 | 43.40625 | 3.471 |\n",
       "| 15 | 2013-03-01 | 42.28125 | 3.698 |\n",
       "| 16 | 2013-04-01 | 41.41250 | 3.572 |\n",
       "| 17 | 2013-05-01 | 40.60500 | 3.478 |\n",
       "| 18 | 2013-06-01 | 39.93750 | 3.610 |\n",
       "| 19 | 2013-07-01 | 38.02222 | 3.410 |\n",
       "| 20 | 2013-08-01 | 34.99416 | 3.566 |\n",
       "| 21 | 2013-09-01 | 34.45329 | 3.575 |\n",
       "| 22 | 2013-10-01 | 34.84850 | 3.298 |\n",
       "| 23 | 2013-11-01 | 35.59200 | 3.209 |\n",
       "| 24 | 2013-12-01 | 34.59330 | 3.209 |\n",
       "| 25 | 2014-01-01 | 35.21499 | 3.261 |\n",
       "| 26 | 2014-02-01 | 35.54674 | 3.243 |\n",
       "| 27 | 2014-03-01 | 34.70286 | 3.421 |\n",
       "| 28 | 2014-04-01 | 32.74457 | 3.533 |\n",
       "| 29 | 2014-05-01 | 28.53986 | 3.606 |\n",
       "| 30 | 2014-06-01 | 28.22546 | 3.624 |\n",
       "| ... | ... | ... | ... |\n",
       "| 103 | 2020-07-01 | 32.36087 | 2.100 |\n",
       "| 104 | 2020-08-01 | 31.37619 | 2.085 |\n",
       "| 105 | 2020-09-01 | 29.98182 | 2.122 |\n",
       "| 106 | 2020-10-01 | 29.63636 | 2.091 |\n",
       "| 107 | 2020-11-01 | 29.48571 | 2.021 |\n",
       "| 108 | 2020-12-01 | 29.77391 | 2.063 |\n",
       "| 109 | 2021-01-01 | 29.85714 | 2.160 |\n",
       "| 110 | 2021-02-01 | 28.66250 | 2.316 |\n",
       "| 111 | 2021-03-01 | 28.33478 | 2.625 |\n",
       "| 112 | 2021-04-01 | 29.75227 | 2.777 |\n",
       "| 113 | 2021-05-01 | 30.25714 | 2.790 |\n",
       "| 114 | 2021-06-01 | 32.14211 | 2.935 |\n",
       "| 115 | 2021-07-01 | 32.33864 | 3.032 |\n",
       "| 116 | 2021-08-01 | 32.14773 | 3.059 |\n",
       "| 117 | 2021-09-01 | 45.07812 | 3.080 |\n",
       "| 118 | 2021-10-01 | 38.47619 | 3.093 |\n",
       "| 119 | 2021-11-01 | 31.09958 | 3.280 |\n",
       "| 120 | 2021-12-01 | 36.12930 | 3.204 |\n",
       "| 121 | 2022-01-01 | 36.87292 | 3.141 |\n",
       "| 122 | 2022-02-01 | 35.83191 | 3.330 |\n",
       "| 123 | 2022-03-01 | 45.51470 | 3.963 |\n",
       "| 124 | 2022-04-01 | 48.70473 | 4.021 |\n",
       "| 125 | 2022-05-01 | 40.89163 | 4.031 |\n",
       "| 126 | 2022-06-01 | 40.33152 | 4.702 |\n",
       "| 127 | 2022-07-01 | 38.93916 | 4.619 |\n",
       "| 128 | 2022-08-01 | 39.80231 | 4.034 |\n",
       "| 129 | 2022-09-01 | 40.95039 | 3.617 |\n",
       "| 130 | 2022-10-01 | 41.30360 | 3.592 |\n",
       "| 131 | 2022-11-01 | 40.95406 | 3.628 |\n",
       "| 132 | 2022-12-01 | 39.17824 | 3.260 |\n",
       "\n"
      ],
      "text/plain": [
       "    DATE       Uranium  Natural Gas\n",
       "1   2012-01-01 52.31250 3.254      \n",
       "2   2012-02-01 52.05556 3.436      \n",
       "3   2012-03-01 51.28889 3.717      \n",
       "4   2012-04-01 51.30000 3.874      \n",
       "5   2012-05-01 51.88889 3.718      \n",
       "6   2012-06-01 50.83333 3.518      \n",
       "7   2012-07-01 50.35556 3.291      \n",
       "8   2012-08-01 49.25000 3.606      \n",
       "9   2012-09-01 47.72500 3.797      \n",
       "10  2012-10-01 44.61111 3.750      \n",
       "11  2012-11-01 41.50000 3.406      \n",
       "12  2012-12-01 43.66667 3.337      \n",
       "13  2013-01-01 42.75000 3.233      \n",
       "14  2013-02-01 43.40625 3.471      \n",
       "15  2013-03-01 42.28125 3.698      \n",
       "16  2013-04-01 41.41250 3.572      \n",
       "17  2013-05-01 40.60500 3.478      \n",
       "18  2013-06-01 39.93750 3.610      \n",
       "19  2013-07-01 38.02222 3.410      \n",
       "20  2013-08-01 34.99416 3.566      \n",
       "21  2013-09-01 34.45329 3.575      \n",
       "22  2013-10-01 34.84850 3.298      \n",
       "23  2013-11-01 35.59200 3.209      \n",
       "24  2013-12-01 34.59330 3.209      \n",
       "25  2014-01-01 35.21499 3.261      \n",
       "26  2014-02-01 35.54674 3.243      \n",
       "27  2014-03-01 34.70286 3.421      \n",
       "28  2014-04-01 32.74457 3.533      \n",
       "29  2014-05-01 28.53986 3.606      \n",
       "30  2014-06-01 28.22546 3.624      \n",
       "... ...        ...      ...        \n",
       "103 2020-07-01 32.36087 2.100      \n",
       "104 2020-08-01 31.37619 2.085      \n",
       "105 2020-09-01 29.98182 2.122      \n",
       "106 2020-10-01 29.63636 2.091      \n",
       "107 2020-11-01 29.48571 2.021      \n",
       "108 2020-12-01 29.77391 2.063      \n",
       "109 2021-01-01 29.85714 2.160      \n",
       "110 2021-02-01 28.66250 2.316      \n",
       "111 2021-03-01 28.33478 2.625      \n",
       "112 2021-04-01 29.75227 2.777      \n",
       "113 2021-05-01 30.25714 2.790      \n",
       "114 2021-06-01 32.14211 2.935      \n",
       "115 2021-07-01 32.33864 3.032      \n",
       "116 2021-08-01 32.14773 3.059      \n",
       "117 2021-09-01 45.07812 3.080      \n",
       "118 2021-10-01 38.47619 3.093      \n",
       "119 2021-11-01 31.09958 3.280      \n",
       "120 2021-12-01 36.12930 3.204      \n",
       "121 2022-01-01 36.87292 3.141      \n",
       "122 2022-02-01 35.83191 3.330      \n",
       "123 2022-03-01 45.51470 3.963      \n",
       "124 2022-04-01 48.70473 4.021      \n",
       "125 2022-05-01 40.89163 4.031      \n",
       "126 2022-06-01 40.33152 4.702      \n",
       "127 2022-07-01 38.93916 4.619      \n",
       "128 2022-08-01 39.80231 4.034      \n",
       "129 2022-09-01 40.95039 3.617      \n",
       "130 2022-10-01 41.30360 3.592      \n",
       "131 2022-11-01 40.95406 3.628      \n",
       "132 2022-12-01 39.17824 3.260      "
      ]
     },
     "metadata": {},
     "output_type": "display_data"
    }
   ],
   "source": [
    "df_uranium_price <- df_uranium_price %>% select(DATE, Price)\n",
    "\n",
    "names(df_uranium_price) <- c('DATE', 'Uranium')\n",
    "\n",
    "names(df_gas_price) <- c('Natural Gas', 'DATE')\n",
    "\n",
    "df_resource_price <- merge(df_uranium_price, df_gas_price, by.x = 'DATE', by.y = 'DATE', all = TRUE)\n",
    "\n",
    "df_resource_price <- na.omit(df_resource_price)\n",
    "\n",
    "# head(df_resource_price, 10)\n",
    "\n",
    "df_resource_price"
   ]
  }
 ],
 "metadata": {
  "kernelspec": {
   "display_name": "R",
   "language": "R",
   "name": "ir"
  },
  "language_info": {
   "codemirror_mode": "r",
   "file_extension": ".r",
   "mimetype": "text/x-r-source",
   "name": "R",
   "pygments_lexer": "r",
   "version": "4.3.1"
  },
  "orig_nbformat": 4
 },
 "nbformat": 4,
 "nbformat_minor": 2
}
